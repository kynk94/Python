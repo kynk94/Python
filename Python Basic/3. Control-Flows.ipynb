{
  "cells": [
    {
      "cell_type": "code",
      "execution_count": 1,
      "metadata": {
        "collapsed": true,
        "pycharm": {
          "is_executing": false
        }
      },
      "outputs": [
        {
          "name": "stdout",
          "text": [
            "[1045, 1100, 1155, 1210, 1265, 1320, 1375, 1430, 1485, 1540, 1595, 1650, 1705, 1760, 1815, 1870, 1925, 1980]\n"
          ],
          "output_type": "stream"
        }
      ],
      "source": "# 1. Write a Python program to create a list of the numbers which are divisible by 11 and multiple of 5,\n#    between 1000 and 2000 (both included). Use list comprehension.\nprint([i for i in range(1000,2001) if i%11\u003d\u003d0 and i%5\u003d\u003d0])"
    },
    {
      "cell_type": "code",
      "execution_count": 2,
      "metadata": {
        "pycharm": {
          "is_executing": false
        }
      },
      "outputs": [
        {
          "name": "stdout",
          "text": [
            "Number of even numbers : 4\nNumber of even numbers : 5\n"
          ],
          "output_type": "stream"
        }
      ],
      "source": [
        "# 2. Write a Python program to count the number of even and odd numbers from a series of numbers. \n",
        "# When the numbers are given as below…\n",
        "# numbers \u003d (1, 2, 3, 4, 5, 6, 7, 8, 9) \n",
        "# The output will be…\n",
        "# Number of even numbers : 5\n",
        "# Number of odd numbers : 4\n",
        "numbers \u003d (1, 2, 3, 4, 5, 6, 7, 8, 9)\n",
        "print(\"Number of even numbers : %d\" %len([i for i in numbers if i%2\u003d\u003d0]))\n",
        "print(\"Number of even numbers : %d\" %len([i for i in numbers if i%2\u003d\u003d1]))"
      ]
    },
    {
      "cell_type": "code",
      "execution_count": 3,
      "metadata": {
        "pycharm": {
          "is_executing": false
        }
      },
      "outputs": [
        {
          "name": "stdout",
          "text": [
            "[1, 1, 2, 3, 5, 8, 13, 21, 34, 55, 89]\n"
          ],
          "output_type": "stream"
        }
      ],
      "source": [
        "# 3. Write a Python program to print the Fibonacci series between 1 to 100. Use while loop.\n",
        "# \u003c Fibonacci Sequence \u003e\n",
        "# The Fibonacci Sequence is the series of numbers : 1, 1, 2, 3, 5, 8, 13, 21, ....\n",
        "# Every next number is found by adding up the two numbers before it.\n",
        "num \u003d [1,1]\n",
        "idx \u003d 0\n",
        "while True:\n",
        "    num.append(num[idx]+num[idx+1])\n",
        "    idx +\u003d 1\n",
        "    if num[-1]\u003e100:\n",
        "        num \u003d num[:-1]\n",
        "        break\n",
        "print(num)"
      ]
    },
    {
      "cell_type": "code",
      "execution_count": 4,
      "metadata": {
        "pycharm": {
          "is_executing": false
        }
      },
      "outputs": [
        {
          "name": "stdout",
          "text": [
            "[[0, 0, 0, 0], [0, 1, 2, 3], [0, 2, 4, 6]]\n"
          ],
          "output_type": "stream"
        }
      ],
      "source": "# 4. Write a Python program which takes two digits m (row) and n (column) as input\n# and generates a two-dimensional list (nested list).\n# The element value in the i-th row and j-th column of the array should be i*j,\n# for i \u003d 0,1.., m-1 and j \u003d 0,1, n-1. Use nested for loops.\n# When you enter… (using input function)\n# Input number of rows: 3\n# Input number of columns: 4\n# The output will be…\n# [[0, 0, 0, 0], [0, 1, 2, 3], [0, 2, 4, 6]]\nrow \u003d int(input(\"Input number of rows : \"))\ncolumn \u003d int(input(\"Input number of columns\"))\nprint([[i*j for i in range(column)] for j in range(row)])"
    },
    {
      "cell_type": "code",
      "execution_count": 5,
      "metadata": {
        "pycharm": {
          "is_executing": false
        }
      },
      "outputs": [
        {
          "name": "stdout",
          "text": [
            "6 x 1 \u003d 6\n6 x 2 \u003d 12\n6 x 3 \u003d 18\n6 x 4 \u003d 24\n6 x 5 \u003d 30\n6 x 6 \u003d 36\n6 x 7 \u003d 42\n6 x 8 \u003d 48\n6 x 9 \u003d 54\n"
          ],
          "output_type": "stream"
        }
      ],
      "source": "# 5. Write a Python program to create the multiplication table (from 1 to 9) of a number.\n# When you enter… (using input function)\n# Input a number: 6                                                       \n# The output will be…\n# 6 x 1 \u003d 6                                                               \n# 6 x 2 \u003d 12                                                              \n# 6 x 3 \u003d 18                                                              \n# 6 x 4 \u003d 24                                                              \n# 6 x 5 \u003d 30                                                              \n# 6 x 6 \u003d 36                                                              \n# 6 x 7 \u003d 42                                                              \n# 6 x 8 \u003d 48                                                              \n# 6 x 9 \u003d 54\nnum \u003d input(\"Input a number : \")\nfor i in range(1,10):\n    print(num+\u0027 x \u0027+str(i)+\u0027 \u003d \u0027+str(int(num)*i))"
    },
    {
      "cell_type": "code",
      "execution_count": 6,
      "outputs": [
        {
          "name": "stdout",
          "text": [
            "[30, 15.0, 46.0, 23.0, 70.0, 35.0, 106.0, 53.0, 160.0, 80.0, 40.0, 20.0, 10.0, 5.0, 16.0, 8.0, 4.0, 2.0, 1.0]\n"
          ],
          "output_type": "stream"
        }
      ],
      "source": "# 6. Write a Python program to generate the Collatz sequence, which is described below.\n# \u003cCollatz sequence\u003e\n# Take any positive integer x_i. If the value is even, divide it by 2 to get x_i  / 2.\n# If the value is odd, multiply it by 3 and add 1 to obtain 3x_i+1. \n# x_(i+1) \u003d x_i / 2     ,if x_i  is even\n#           3x_i+1      ,if x_i  is odd\n# Repeat the process indefinitely.\n# It is known that no matter what number you start with, you will always eventually reach 1.\n# For instance, starting with x_0 \u003d 12, one gets the sequence 12, 6, 3, 10, 5, 16, 8, 4, 2, 1.\n# Use your program, create a list that contains Collatz sequence numbers with starting value x_0 \u003d 30.\nnum \u003d int(input(\"1st number of Collatz sequence: \"))\noutput \u003d [num]\nwhile output[-1]!\u003d1:\n    temp \u003d output[-1]%2\n    if temp\u003d\u003d0:\n        output.append(output[-1]/2)\n    else:\n        output.append(3*output[-1]+1)\nprint(output)",
      "metadata": {
        "pycharm": {
          "metadata": false,
          "name": "#%%\n",
          "is_executing": false
        }
      }
    },
    {
      "cell_type": "code",
      "execution_count": 7,
      "outputs": [],
      "source": "# 7. Using the two list objects, x\u003d[1, 2, 3, 4] \u0026 y \u003d [5, 6, 7, 8], answer the following.\nx \u003d [1, 2, 3, 4]\ny \u003d [5, 6, 7, 8]",
      "metadata": {
        "pycharm": {
          "metadata": false,
          "name": "#%% \n",
          "is_executing": false
        }
      }
    },
    {
      "cell_type": "code",
      "execution_count": 8,
      "outputs": [
        {
          "name": "stdout",
          "text": [
            "[[1, 5], [1, 6], [1, 7], [1, 8], [2, 5], [2, 6], [2, 7], [2, 8], [3, 5], [3, 6], [3, 7], [3, 8], [4, 5], [4, 6], [4, 7], [4, 8]]\n"
          ],
          "output_type": "stream"
        }
      ],
      "source": "# (1) Write a Python program to create a list z which consists of the Cartesian product of x and y :\n#   [[1, 5], [1, 6],… ,[1, 8], [2, 5],…,[4, 5],…,[4, 8]]).\n#   Use list comprehension.\nz \u003d [[i,j] for i in x for j in y]\nprint(z)",
      "metadata": {
        "pycharm": {
          "metadata": false,
          "name": "#%%\n",
          "is_executing": false
        }
      }
    },
    {
      "cell_type": "code",
      "execution_count": 9,
      "outputs": [
        {
          "name": "stdout",
          "text": [
            "[[1, 7], [1, 8], [2, 6], [2, 7], [2, 8], [3, 5], [3, 6], [3, 7], [3, 8], [4, 5], [4, 6], [4, 7], [4, 8]]\n"
          ],
          "output_type": "stream"
        }
      ],
      "source": "# (2) Modify the code in (1) so that only the elements with a sum of two numbers\n#   greater than or equal to 8 are left in z. Use list comprehension.\nz \u003d [i for i in z if sum(i)\u003e\u003d8]\nprint(z)",
      "metadata": {
        "pycharm": {
          "metadata": false,
          "name": "#%%\n",
          "is_executing": false
        }
      }
    },
    {
      "cell_type": "code",
      "execution_count": 10,
      "outputs": [
        {
          "name": "stdout",
          "text": [
            "Letters 6\nDigits 2\n"
          ],
          "output_type": "stream"
        }
      ],
      "source": "# 8. Write a Python program that accepts an arbitrary string and calculate the number of digits and letters.\n# When you enter… (using input function)\n# Sample Data : Python 3.2\n# The output will be…\n# Letters 6 \n# Digits 2\ntemp \u003d input(\"Sample Data : \")\nprint(\"Letters %d\" %len([i for i in temp if i.isalpha()]))\nprint(\"Digits %d\" %len([i for i in temp if i.isdigit()]))",
      "metadata": {
        "pycharm": {
          "metadata": false,
          "name": "#%%\n",
          "is_executing": false
        }
      }
    }
  ],
  "metadata": {
    "kernelspec": {
      "display_name": "Python 2",
      "language": "python",
      "name": "python2"
    },
    "language_info": {
      "codemirror_mode": {
        "name": "ipython",
        "version": 2
      },
      "file_extension": ".py",
      "mimetype": "text/x-python",
      "name": "python",
      "nbconvert_exporter": "python",
      "pygments_lexer": "ipython2",
      "version": "2.7.6"
    }
  },
  "nbformat": 4,
  "nbformat_minor": 0
}