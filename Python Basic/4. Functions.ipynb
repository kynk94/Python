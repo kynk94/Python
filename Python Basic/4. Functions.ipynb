{
  "cells": [
    {
      "cell_type": "code",
      "execution_count": 1,
      "outputs": [
        {
          "name": "stdout",
          "text": [
            "3\n"
          ],
          "output_type": "stream"
        }
      ],
      "source": "# 1. Write a function count_odd(L) that counts how many odd numbers are in a list L.\n# The function should work as follows.\n# \u003e\u003e a \u003d count_odd(L\u003d[1,2,5,7,8])\n# \u003e\u003e a\n# 3\ndef count_odd(L):\n    return len([i for i in L if i%2\u003d\u003d1])\na \u003d count_odd(L\u003d[1,2,5,7,8])\nprint(a)",
      "metadata": {
        "pycharm": {
          "metadata": false,
          "name": "#%%\n",
          "is_executing": false
        }
      }
    },
    {
      "cell_type": "code",
      "execution_count": 2,
      "outputs": [
        {
          "name": "stdout",
          "text": [
            "1.414213562373095\n"
          ],
          "output_type": "stream"
        }
      ],
      "source": "# 2. Write a function called mySqrt(n) that will approximate the square root of a number n,\n# by using Newton’s algorithm.\n# Newton’s approach is an iterative guessing algorithm where the initial guess is n/2\n# and each subsequent guess is computed using the formula: newguess \u003d (1/2) * ( oldguess + ( n / oldguess ) ).\n# Using while loop, stop the iteration when the difference between newguess and oldguess becomes very small,\n# then the newguess can be used as an approximation of the square root of n.\n# The function should work as follows.\n# \u003e\u003e mySqrt(n\u003d2)\n# 1.414213562373095\ndef mySqrt(n):\n    old_guess \u003d n/2\n    while True:\n        newguess \u003d (old_guess + n / old_guess) / 2\n        if abs(newguess - old_guess) \u003c 1e-10:\n            # print(newguess, old_guess)\n            break;\n        old_guess \u003d newguess\n    return newguess\nprint(mySqrt(n\u003d2))",
      "metadata": {
        "pycharm": {
          "metadata": false,
          "name": "#%%\n",
          "is_executing": false
        }
      }
    },
    {
      "cell_type": "code",
      "execution_count": 3,
      "outputs": [
        {
          "name": "stdout",
          "text": [
            "Grade is C !\nInput your score!!\nScore must be a number between 0 and 100!!\n"
          ],
          "output_type": "stream"
        }
      ],
      "source": "# 3. Answer the following.\n# (1) Write a function grading(score) that work as follows.\n# Use the table below to calculate the letter grade based on the score.\n# \n# Score\tGrade\n# \u003e90 and \u003c\u003d100\tA\n# \u003e80 and \u003c\u003d90\tB\n# \u003e70 and \u003c\u003d80\tC\n# \u003e60 and \u003c\u003d70\tD\n# \u003c\u003d60\tF\n# \n# \u003e\u003e\u003e grading(s\u003d75)\n# Grade is C !\n# \u003e\u003e\u003e grading()\n# Input your score!!\n# \u003e\u003e\u003e grading(-5)\n# Score must be a number between 0 and 100!!\ndef grading(s\u003dNone):\n    if s\u003d\u003dNone:\n        print(\u0027Input your score!!\u0027)\n    elif s\u003c0 or s\u003e100:\n        print(\u0027Score must be a number between 0 and 100!!\u0027)\n    elif s\u003e90 and s\u003c\u003d100:\n        print(\u0027Grade is A !\u0027)\n    elif s\u003e80 and s\u003c\u003d90:\n        print(\u0027Grade is B !\u0027)\n    elif s\u003e70 and s\u003c\u003d80:\n        print(\u0027Grade is C !\u0027)\n    elif s\u003e60 and s\u003c\u003d70:\n        print(\u0027Grade is D !\u0027)\n    else:\n        print(\u0027Grade is F !\u0027)\ngrading(75)\ngrading()\ngrading(-5)",
      "metadata": {
        "pycharm": {
          "metadata": false,
          "name": "#%%\n",
          "is_executing": false
        }
      }
    },
    {
      "cell_type": "code",
      "execution_count": 4,
      "outputs": [
        {
          "name": "stdout",
          "text": [
            "Grade is C !\nGrade is B !\nGrade is F !\nGrade is A !\nInput your score!!\nScore must be a number between 0 and 0.5!!\n"
          ],
          "output_type": "stream"
        }
      ],
      "source": "# (2) Modify the function grading in (1) so that it has additional parameter maxscore.\n# The maxscore is 100 by default, but you can pass other values for scaling the score.\n# For example, grading(score\u003d0.5, maxscore\u003d1) returns the grade for the score 50 and\n# grading(score\u003d15, maxscore\u003d20) returns the grade for the score 75.\n# It also should work as follows.\n# \u003e\u003e\u003egrading(score\u003d75)\n# Grade is C !!\n# \u003e\u003e\u003e grading(maxscore\u003d1,score\u003d0.85)\n# Grade is B !!\n# \u003e\u003e\u003e grading(5, maxscore\u003d10)\n# Grade is F !!\n# \u003e\u003e\u003e grading(0.95, 1)\n# Grade is A !!\n# \u003e\u003e\u003e grading(maxscore\u003d1)\n# Input your score!!\n# \u003e\u003e\u003e grading( -0.3, 0.5)\n# Score must be a number between 0 and 0.5!!!\ndef grading(score\u003dNone, maxscore\u003d100):\n    if score\u003d\u003dNone:\n        print(\u0027Input your score!!\u0027)\n    else:\n        s \u003d score / maxscore\n        if s\u003c0 or s\u003e1:\n            print(f\u0027Score must be a number between 0 and {maxscore}!!\u0027)\n        elif s\u003e0.9 and s\u003c\u003d1:\n            print(\u0027Grade is A !\u0027)\n        elif s\u003e0.8 and s\u003c\u003d0.9:\n            print(\u0027Grade is B !\u0027)\n        elif s\u003e0.7 and s\u003c\u003d0.8:\n            print(\u0027Grade is C !\u0027)\n        elif s\u003e0.6 and s\u003c\u003d0.7:\n            print(\u0027Grade is D !\u0027)\n        else:\n            print(\u0027Grade is F !\u0027)\ngrading(score\u003d75)\ngrading(maxscore\u003d1, score\u003d0.85)\ngrading(5, maxscore\u003d10)\ngrading(0.95, 1)\ngrading(maxscore\u003d1)\ngrading(-0.3, 0.5)",
      "metadata": {
        "pycharm": {
          "metadata": false,
          "name": "#%%\n",
          "is_executing": false
        }
      }
    },
    {
      "cell_type": "code",
      "execution_count": 5,
      "outputs": [],
      "source": "# (3) Explain why an error occurs, if you call the function grading in (2) as follows\n# \u003e\u003e\u003e grading(5, score\u003d3) \n# 제일 처음의 Input은 score로 입력되는데, 뒤에 score를 한번 더 입력해서 multiple Input을 입력하였다.\n# score는 하나의 Input만 받을수 있으므로 에러가 발생했다.\n# \u003e\u003e\u003e grading(score\u003d0.81, 1)\n# 키워드 인자를 사용하면 순서를 무시하고 사용할 수 있다. 다만 위치 인자와 혼합하여 사용할 경우 그 순서가 중요해진다.\n# 위치 인자와 키워드 인자를 혼합하여 사용할 수 있지만, 그럴 경우 위치 인자 뒤에 키워드 인자가 와야만 한다.",
      "metadata": {
        "pycharm": {
          "metadata": false,
          "name": "#%%\n",
          "is_executing": false
        }
      }
    },
    {
      "cell_type": "code",
      "execution_count": 6,
      "outputs": [],
      "source": "# 4. The structure of “game” package is shown below.\n# Note the all __init__.py files in this package is empty.\n# game/\n#     __init__.py\n#     sound/\n#         __init__.py\n#         echo.py\n#         wav.py\n#     graphic/\n#         __init__.py\n#         screen.py\n#         render.py\n#     play/\n#         __init__.py\n#         run.py\n#         test.py\n# Suppose you want to access the function echo_test() which is included in the echo module.\n# Find out which one of the following is wrong and briefly explain why. \n# ①\t\u003e\u003e\u003e from game.sound import echo\n# \u003e\u003e\u003e echo.echo_test()\n# 정상 작동\n# ②\t\u003e\u003e\u003e from game.sound.echo import echo_test\n# \u003e\u003e\u003e echo_test()\n# 정상 작동\n# ③\t\u003e\u003e\u003e import game\n# \u003e\u003e\u003e game.sound.echo.echo_test()\n# 비정상\n# __init__.py가 비어있으므로 import game을 해도 내부의 모듈은 import 되지 않는다.\n# ④\t\u003e\u003e\u003e import game.sound.echo\n# \u003e\u003e\u003e game.sound.echo.echo_test()\n# 정상 작동",
      "metadata": {
        "pycharm": {
          "metadata": false,
          "name": "#%%\n",
          "is_executing": false
        }
      }
    }
  ],
  "metadata": {
    "language_info": {
      "codemirror_mode": {
        "name": "ipython",
        "version": 2
      },
      "file_extension": ".py",
      "mimetype": "text/x-python",
      "name": "python",
      "nbconvert_exporter": "python",
      "pygments_lexer": "ipython2",
      "version": "2.7.6"
    },
    "kernelspec": {
      "name": "python3",
      "language": "python",
      "display_name": "Python 3"
    },
    "stem_cell": {
      "cell_type": "raw",
      "source": "",
      "metadata": {
        "pycharm": {
          "metadata": false
        }
      }
    }
  },
  "nbformat": 4,
  "nbformat_minor": 0
}