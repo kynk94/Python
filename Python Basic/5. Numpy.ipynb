{
  "cells": [
    {
      "cell_type": "code",
      "execution_count": 1,
      "metadata": {
        "collapsed": true,
        "pycharm": {
          "is_executing": false
        }
      },
      "outputs": [],
      "source": "import numpy as np"
    },
    {
      "cell_type": "markdown",
      "source": "1. Create an appropriate array for each of the following.",
      "metadata": {
        "pycharm": {
          "metadata": false,
          "name": "#%% md\n",
          "is_executing": false
        }
      }
    },
    {
      "cell_type": "code",
      "execution_count": 2,
      "outputs": [
        {
          "name": "stdout",
          "text": [
            "[[11 19 17 20 28]\n [15 22 12 18 15]]\n"
          ],
          "output_type": "stream"
        }
      ],
      "source": "# (1) Generate a 2 dimensional array with shape (2, 5) by randomly extracting 10 integers between 10 and 30 inclusive.\nprint(np.random.randint(10,30,(2,5)))",
      "metadata": {
        "pycharm": {
          "metadata": false,
          "name": "#%%\n",
          "is_executing": false
        }
      }
    },
    {
      "cell_type": "code",
      "execution_count": 3,
      "outputs": [
        {
          "name": "stdout",
          "text": [
            "[[[-1.25076185]\n  [ 1.3624365 ]\n  [ 0.64340201]]\n\n [[ 1.44109448]\n  [-0.19298739]\n  [-0.23554747]]\n\n [[ 1.05341838]\n  [-0.52998496]\n  [ 1.18869849]]]\n"
          ],
          "output_type": "stream"
        }
      ],
      "source": "# (2) Extract 9 random numbers from the standard normal distribution\n#   and use them to create an array with shape (3, 3, 1).\nprint(np.random.randn(9).reshape((3,3,1)))",
      "metadata": {
        "pycharm": {
          "metadata": false,
          "name": "#%%\n",
          "is_executing": false
        }
      }
    },
    {
      "cell_type": "code",
      "execution_count": 4,
      "outputs": [
        {
          "name": "stdout",
          "text": [
            "[0.00818886 0.58130329 0.82458981 0.25284598 0.26638558 0.54915694]\n"
          ],
          "output_type": "stream"
        }
      ],
      "source": "# (3) Randomly extract 6 real numbers between 0 and 1 and use them to create a one-dimensional array.\nprint(np.random.random(6))",
      "metadata": {
        "pycharm": {
          "metadata": false,
          "name": "#%%\n",
          "is_executing": false
        }
      }
    },
    {
      "cell_type": "code",
      "execution_count": 5,
      "outputs": [
        {
          "name": "stdout",
          "text": [
            "[[1.  0.  0.  0.  0.  0.  0. ]\n [0.  1.5 0.  0.  0.  0.  0. ]\n [0.  0.  2.  0.  0.  0.  0. ]\n [0.  0.  0.  2.5 0.  0.  0. ]\n [0.  0.  0.  0.  3.  0.  0. ]\n [0.  0.  0.  0.  0.  3.5 0. ]\n [0.  0.  0.  0.  0.  0.  4. ]]\n"
          ],
          "output_type": "stream"
        }
      ],
      "source": "# (4) Create a two-dimensional diagonal matrix with the diagonal elements 1, 1.5, 2, 2.5, ... , 4.\ntemp \u003d np.linspace(1,4,7)\ntemp_eye \u003d np.eye(len(temp))\nfor i,j in enumerate(temp):\n    temp_eye[i,i] \u003d j\nprint(temp_eye)",
      "metadata": {
        "pycharm": {
          "metadata": false,
          "name": "#%%\n",
          "is_executing": false
        }
      }
    },
    {
      "cell_type": "markdown",
      "source": "2. Create Z, the 8×8 array filled with zeros by the code below and answer the following.  \nZ \u003d np.zeros((8,8), dtype\u003dnp.int64)",
      "metadata": {
        "pycharm": {
          "metadata": false,
          "name": "#%% md\n",
          "is_executing": false
        }
      }
    },
    {
      "cell_type": "code",
      "execution_count": 6,
      "outputs": [
        {
          "name": "stdout",
          "text": [
            "[[0 0 0 0 0 0 0 0]\n [0 0 0 0 0 0 0 0]\n [0 0 0 0 0 0 0 0]\n [0 0 0 0 0 0 0 0]\n [0 0 0 0 0 0 0 0]\n [0 0 0 0 0 0 0 0]\n [0 0 0 0 0 0 0 0]\n [0 0 0 0 0 0 0 0]]\n"
          ],
          "output_type": "stream"
        }
      ],
      "source": "Z \u003d np.zeros((8,8), dtype\u003dnp.int64)\nprint(Z)",
      "metadata": {
        "pycharm": {
          "metadata": false,
          "name": "#%%\n",
          "is_executing": false
        }
      }
    },
    {
      "cell_type": "code",
      "source": "# array([[0, 0, 0, 0, 0, 0, 0, 0],\n#        [1, 0, 1, 0, 1, 0, 1, 0],\n#        [0, 0, 0, 0, 0, 0, 0, 0],\n#        [1, 0, 1, 0, 1, 0, 1, 0],\n#        [0, 0, 0, 0, 0, 0, 0, 0],\n#        [1, 0, 1, 0, 1, 0, 1, 0],\n#        [0, 0, 0, 0, 0, 0, 0, 0],\n#        [1, 0, 1, 0, 1, 0, 1, 0]], dtype\u003dint64)\nfor i in range(1,8,2):\n    for j in range(0,8,2):\n        Z[i,j]\u003d1\nprint(Z)",
      "metadata": {
        "pycharm": {
          "metadata": false,
          "name": "#%% md (1)\tWrite a code to modify Z as below.\n",
          "is_executing": false
        }
      },
      "execution_count": 7,
      "outputs": [
        {
          "name": "stdout",
          "text": [
            "[[0 0 0 0 0 0 0 0]\n [1 0 1 0 1 0 1 0]\n [0 0 0 0 0 0 0 0]\n [1 0 1 0 1 0 1 0]\n [0 0 0 0 0 0 0 0]\n [1 0 1 0 1 0 1 0]\n [0 0 0 0 0 0 0 0]\n [1 0 1 0 1 0 1 0]]\n"
          ],
          "output_type": "stream"
        }
      ]
    },
    {
      "cell_type": "code",
      "execution_count": 8,
      "outputs": [
        {
          "name": "stdout",
          "text": [
            "[[0 1 0 1 0 1 0 1]\n [1 0 1 0 1 0 1 0]\n [0 1 0 1 0 1 0 1]\n [1 0 1 0 1 0 1 0]\n [0 1 0 1 0 1 0 1]\n [1 0 1 0 1 0 1 0]\n [0 1 0 1 0 1 0 1]\n [1 0 1 0 1 0 1 0]]\n"
          ],
          "output_type": "stream"
        }
      ],
      "source": "# (2) Write a code to modify Z as below.\n# array([[0, 1, 0, 1, 0, 1, 0, 1],\n#        [1, 0, 1, 0, 1, 0, 1, 0],\n#        [0, 1, 0, 1, 0, 1, 0, 1],\n#        [1, 0, 1, 0, 1, 0, 1, 0],\n#        [0, 1, 0, 1, 0, 1, 0, 1],\n#        [1, 0, 1, 0, 1, 0, 1, 0],\n#        [0, 1, 0, 1, 0, 1, 0, 1],\n#        [1, 0, 1, 0, 1, 0, 1, 0]], dtype\u003dint64)\nZ \u003d np.zeros((8,8), dtype\u003dnp.int64)\nfor i in range(8):\n    temp \u003d i%2\n    for j in range((temp+1)%2,8,2):\n        Z[i,j]\u003d1\nprint(Z)",
      "metadata": {
        "pycharm": {
          "metadata": false,
          "name": "#%%\n",
          "is_executing": false
        }
      }
    },
    {
      "cell_type": "markdown",
      "source": "3. Create the 2-dimensional 6×5 ndarray as the picture below.  \n\u003cimg src\u003d\"5_3.png\"\u003e",
      "metadata": {
        "pycharm": {
          "metadata": false,
          "name": "#%% md\n"
        }
      }
    },
    {
      "cell_type": "code",
      "execution_count": 9,
      "outputs": [
        {
          "name": "stdout",
          "text": [
            "[[ 0  1  2  3  4  5]\n [10 11 12 13 14 15]\n [20 21 22 23 24 25]\n [30 31 32 33 34 35]\n [40 41 42 43 44 45]\n [50 51 52 53 54 55]]\n"
          ],
          "output_type": "stream"
        }
      ],
      "source": "row \u003d np.arange(0,60,10).reshape([-1,1])\ncol \u003d np.arange(6)\ntemp \u003d row+col\nprint(temp)",
      "metadata": {
        "pycharm": {
          "metadata": false,
          "name": "#%%\n",
          "is_executing": false
        }
      }
    },
    {
      "cell_type": "code",
      "execution_count": 10,
      "outputs": [
        {
          "name": "stdout",
          "text": [
            "[3 4]\n"
          ],
          "output_type": "stream"
        }
      ],
      "source": "# (1) Write the code to select the values in orange box as a one-dimensional ndarray.\nprint(temp[0,[3,4]])",
      "metadata": {
        "pycharm": {
          "metadata": false,
          "name": "#%%\n",
          "is_executing": false
        }
      }
    },
    {
      "cell_type": "code",
      "execution_count": 11,
      "outputs": [
        {
          "name": "stdout",
          "text": [
            "[[44 45]\n [54 55]]\n"
          ],
          "output_type": "stream"
        }
      ],
      "source": "# (2) Write the code to select the values in cyan box as a two-dimensional ndarray with shape (2,2).\nidx_row \u003d []\nidx_col \u003d []\ntemp_row \u003d [4,5]\ntemp_col \u003d [4,5]\nfor i in temp_row:\n    for j in temp_col:\n        idx_row.append(i)\n        idx_col.append(j)\nprint(temp[idx_row, idx_col].reshape(len(temp_row),len(temp_col)))",
      "metadata": {
        "pycharm": {
          "metadata": false,
          "name": "#%%\n",
          "is_executing": false
        }
      }
    },
    {
      "cell_type": "code",
      "execution_count": 12,
      "outputs": [
        {
          "name": "stdout",
          "text": [
            "[ 2 12 22 32 42 52]\n"
          ],
          "output_type": "stream"
        }
      ],
      "source": "# (3) Write the code to select the values in red box as a one-dimensional ndarray.\nprint(temp[:,2])",
      "metadata": {
        "pycharm": {
          "metadata": false,
          "name": "#%%\n",
          "is_executing": false
        }
      }
    },
    {
      "cell_type": "code",
      "execution_count": 13,
      "outputs": [
        {
          "name": "stdout",
          "text": [
            "[[ 2]\n [12]\n [22]\n [32]\n [42]\n [52]]\n"
          ],
          "output_type": "stream"
        }
      ],
      "source": "# (4) Write the code to select the values in red box as a two-dimensional ndarray with shape (6,1).\nprint(temp[:,2].reshape(6,1))",
      "metadata": {
        "pycharm": {
          "metadata": false,
          "name": "#%%\n",
          "is_executing": false
        }
      }
    },
    {
      "cell_type": "code",
      "execution_count": 14,
      "outputs": [
        {
          "name": "stdout",
          "text": [
            "[[ 0  1  0  3  4  5]\n [10 11  1 13 14 15]\n [20 21  2 23 24 25]\n [30 31  3 33 34 35]\n [40 41  4 43 44 45]\n [50 51  5 53 54 55]]\n"
          ],
          "output_type": "stream"
        }
      ],
      "source": "# (5) Replace the values in red box with 0, 1, 2, 3, 4, 5 in order from the top.\ntemp[:,2] \u003d np.arange(6)\nprint(temp)",
      "metadata": {
        "pycharm": {
          "metadata": false,
          "name": "#%%\n",
          "is_executing": false
        }
      }
    },
    {
      "cell_type": "code",
      "execution_count": 15,
      "outputs": [
        {
          "name": "stdout",
          "text": [
            "[[20  2 24]\n [40  4 44]]\n"
          ],
          "output_type": "stream"
        }
      ],
      "source": "# (6) Write the code to select the values in light green part as a two-dimensional ndarray with shape (2, 3).\nidx_row \u003d []\nidx_col \u003d []\ntemp_row \u003d [2,4]\ntemp_col \u003d np.arange(0,5,2)\nfor i in temp_row:\n    for j in temp_col:\n        idx_row.append(i)\n        idx_col.append(j)\nprint(temp[idx_row, idx_col].reshape(len(temp_row),len(temp_col)))",
      "metadata": {
        "pycharm": {
          "metadata": false,
          "name": "#%%\n",
          "is_executing": false
        }
      }
    },
    {
      "cell_type": "code",
      "execution_count": 16,
      "outputs": [
        {
          "name": "stdout",
          "text": [
            "[[ 0  1  0  3  4  5]\n [10 11  1 13 14 15]\n [ 1 21  2 23  3 25]\n [30 31  3 33 34 35]\n [ 4 41  5 43  6 45]\n [50 51  5 53 54 55]]\n"
          ],
          "output_type": "stream"
        }
      ],
      "source": "# (7) Replace the values 20, 22(updated to 2 in (5)), 24, 40, 42(updated to 4 in (5)), 44 in light green box\n#   with 1, 2, 3, 4, 5, 6, respectively.\ntemp[idx_row,idx_col] \u003d np.arange(1,7)\nprint(temp)",
      "metadata": {
        "pycharm": {
          "metadata": false,
          "name": "#%%\n",
          "is_executing": false
        }
      }
    },
    {
      "cell_type": "code",
      "execution_count": 17,
      "outputs": [
        {
          "name": "stdout",
          "text": [
            "[0.49236724 0.83075722 0.5859036  0.03865782 0.28005852]\n[0.57279354 1.         0.69088019 0.         0.30476062]\n"
          ],
          "output_type": "stream"
        }
      ],
      "source": "# 4. Modify the element z of the 1 dimensional array Z so that it is a scaled value\n#   in the manner of (z-m) / (M-m), where m is the minimum value and M is the maximum value of Z.\n# Z \u003d np.random.rand(5)\nZ \u003d np.random.rand(5)\nm \u003d min(Z)\nM \u003d max(Z)\nprint(Z)\nfor i,z in enumerate(Z):\n    Z[i] \u003d (z-m) / (M-m)\nprint(Z)",
      "metadata": {
        "pycharm": {
          "metadata": false,
          "name": "#%%\n",
          "is_executing": false
        }
      }
    },
    {
      "cell_type": "code",
      "execution_count": 18,
      "outputs": [
        {
          "name": "stdout",
          "text": [
            "[6.7779851  1.4618845  4.92799722 0.19802264 9.3314448  0.07623936\n 6.70510533 9.08496891 1.63688605 2.68776672]\n[6. 1. 4. 0. 9. 0. 6. 9. 1. 2.]\n"
          ],
          "output_type": "stream"
        }
      ],
      "source": "# 5. Extract the integer part of the random array Z.\n# Z \u003d np.random.uniform(0,10,10)\nZ \u003d np.random.uniform(0,10,10)\nprint(Z)\nprint(np.floor(Z))",
      "metadata": {
        "pycharm": {
          "metadata": false,
          "name": "#%%\n",
          "is_executing": false
        }
      }
    },
    {
      "cell_type": "code",
      "execution_count": 19,
      "outputs": [
        {
          "name": "stdout",
          "text": [
            "[  1   2   3   4   5   6   7   8   9  10  11  12  13  14  15  16  17  18\n  19  20  21  22  23  24  25  26  27  28  29  30  31  32  33  34  35  36\n  37  38  39  40  41  42  43  44  45  46  47  48  49  50  51  52  53  54\n  55  56  57  58  59  60  61  62  63  64  65  66  67  68  69  70  71  72\n  73  74  75  76  77  78  79  80  81  82  83  84  85  86  87  88  89  90\n  91  92  93  94  95  96  97  98  99 100]\n[   1   -2    3   -4    5   -6    7   -8    9  -10   11  -12   13  -14\n   15  -16   17  -18   19  -20   21  -22   23  -24   25  -26   27  -28\n   29  -30   31  -32   33  -34   35  -36   37  -38   39  -40   41  -42\n   43  -44   45  -46   47  -48   49  -50   51  -52   53  -54   55  -56\n   57  -58   59  -60   61  -62   63  -64   65  -66   67  -68   69  -70\n   71  -72   73  -74   75  -76   77  -78   79  -80   81  -82   83  -84\n   85  -86   87  -88   89  -90   91  -92   93  -94   95  -96   97  -98\n   99 -100]\n"
          ],
          "output_type": "stream"
        }
      ],
      "source": "# 6. Create a numpy array NP consisting of integers 1, 2, …, 100.\n# Modify all the even numbers of NPs to be negative by multiplying their values by -1.\nNP \u003d np.arange(1,101)\nprint(NP)\nfor i,j in enumerate(NP):\n    if j%2\u003d\u003d0:\n        NP[i] *\u003d -1\nprint(NP)",
      "metadata": {
        "pycharm": {
          "metadata": false,
          "name": "#%%\n",
          "is_executing": false
        }
      }
    },
    {
      "cell_type": "code",
      "execution_count": 20,
      "outputs": [
        {
          "name": "stdout",
          "text": [
            "[68.  69.8 71.6 73.4 75.2 77.  78.8 80.6 82.4 84.2 86. ]\n"
          ],
          "output_type": "stream"
        }
      ],
      "source": "# 7. Convert 20, 21, 22, ..., 30 degrees Celsius to Fahrenheit using the formula below. \n# F\u003d9/5×C+32\nprint(9/5*np.arange(20,31)+32)",
      "metadata": {
        "pycharm": {
          "metadata": false,
          "name": "#%%\n",
          "is_executing": false
        }
      }
    },
    {
      "cell_type": "code",
      "execution_count": 21,
      "outputs": [
        {
          "name": "stdout",
          "text": [
            "[[-1.0856306   0.99734545  0.2829785  -1.50629471]\n [-0.57860025  1.65143654 -2.42667924 -0.42891263]\n [ 1.26593626 -0.8667404  -0.67888615 -0.09470897]\n [ 1.49138963 -0.638902   -0.44398196 -0.43435128]\n [ 2.20593008  2.18678609  1.0040539   0.3861864 ]\n [ 0.73736858  1.49073203 -0.93583387  1.17582904]]\n"
          ],
          "output_type": "stream"
        }
      ],
      "source": "# Create a 6×4 ndarray \u0027mat\u0027 by the following code.\n# \u003e\u003e\u003e np.random.seed(123)\n# \u003e\u003e\u003e mat \u003d np.random.randn(6, 4); mat\n# array([[ -1.0856306 ,  0.99734545,  0.2829785 , -1.50629471],\n#        [-0.57860025,  1.65143654, -2.42667924, -0.42891263],\n#        [ 1.26593626, -0.8667404 , -0.67888615, -0.09470897],\n#        [ 1.49138963, -0.638902  , -0.44398196, -0.43435128],\n#        [ 2.20593008,  2.18678609,  1.0040539 ,  0.3861864 ],\n#        [ 0.73736858,  1.49073203, -0.93583387,  1.17582904]])\nnp.random.seed(123)\nmat \u003d np.random.randn(6, 4)\nprint(mat)",
      "metadata": {
        "pycharm": {
          "metadata": false,
          "name": "#%%\n",
          "is_executing": false
        }
      }
    },
    {
      "cell_type": "code",
      "execution_count": 22,
      "outputs": [
        {
          "name": "stdout",
          "text": [
            "[[-1.0856306   0.99734545  0.2829785  -1.50629471  0.33768877]\n [-0.57860025  1.65143654 -2.42667924 -0.42891263  0.56068263]\n [ 1.26593626 -0.8667404  -0.67888615 -0.09470897  3.54641154]\n [ 1.49138963 -0.638902   -0.44398196 -0.43435128  4.44326571]\n [ 2.20593008  2.18678609  1.0040539   0.3861864   9.07869158]\n [ 0.73736858  1.49073203 -0.93583387  1.17582904  2.09042747]]\n"
          ],
          "output_type": "stream"
        }
      ],
      "source": "# 8. Calculate the exponentials of the values in the first column of mat\n#   and add them to the last column (5th column) of the mat. The mat will be updated as below.\n# array([[-1.0856306 ,  0.99734545,  0.2829785 , -1.50629471,  0.33768877],\n#         …\n#        [ 0.73736858,  1.49073203, -0.93583387,  1.17582904,  2.09042747]])\nmat \u003d np.hstack([mat,np.exp(mat[:,0]).reshape(-1,1)])\nprint(mat)",
      "metadata": {
        "pycharm": {
          "metadata": false,
          "name": "#%%\n",
          "is_executing": false
        }
      }
    },
    {
      "cell_type": "code",
      "execution_count": 23,
      "outputs": [
        {
          "name": "stdout",
          "text": [
            "[[-8.56306033e-02 -2.65455342e-03  1.28297850e+00 -2.50629471e+00\n   1.33768877e+00]\n [ 4.21399748e-01  6.51436537e-01 -1.42667924e+00 -1.42891263e+00\n   1.56068263e+00]\n [ 2.26593626e+00 -1.86674040e+00  3.21113848e-01 -1.09470897e+00\n   4.54641154e+00]\n [ 2.49138963e+00 -1.63890200e+00  5.56018040e-01 -1.43435128e+00\n   5.44326571e+00]\n [ 3.20593008e+00  1.18678609e+00  2.00405390e+00 -6.13813601e-01\n   1.00786916e+01]\n [ 1.73736858e+00  4.90732028e-01  6.41661316e-02  1.75829045e-01\n   3.09042747e+00]]\n"
          ],
          "output_type": "stream"
        }
      ],
      "source": "# 9. Modify the mat so that 1 is added to all elements in columns 1, 3, and 5,\n# and -1 is added to all elements in columns 2 and 4. Use broadcasting rule.\ntemp \u003d np.array([1,-1,1,-1,1])\nmat +\u003d temp\nprint(mat)",
      "metadata": {
        "pycharm": {
          "metadata": false,
          "name": "#%%\n",
          "is_executing": false
        }
      }
    },
    {
      "cell_type": "code",
      "execution_count": 24,
      "outputs": [
        {
          "name": "stdout",
          "text": [
            "[[-8.56306033e-03 -2.65455342e-04  1.28297850e-01 -2.50629471e-01\n   1.33768877e-01]\n [ 4.21399748e-02  6.51436537e-02 -1.42667924e-01 -1.42891263e-01\n   1.56068263e-01]\n [ 2.26593626e-01 -1.86674040e-01  3.21113848e-02 -1.09470897e-01\n   4.54641154e-01]\n [ 2.49138963e+01 -1.63890200e+01  5.56018040e+00 -1.43435128e+01\n   5.44326571e+01]\n [ 3.20593008e+01  1.18678609e+01  2.00405390e+01 -6.13813601e+00\n   1.00786916e+02]\n [ 1.73736858e+01  4.90732028e+00  6.41661316e-01  1.75829045e+00\n   3.09042747e+01]]\n"
          ],
          "output_type": "stream"
        }
      ],
      "source": "# 10. Modify mat so that all elements in rows 1, 2, and 3 are multiplied by 1/10,\n# and all elements in rows 4, 5, and 6 are multiplied by 10. Use Broadcasting.\ntemp \u003d np.array([1/10,1/10,1/10,10,10,10]).reshape(-1,1)\nmat *\u003d temp\nprint(mat)",
      "metadata": {
        "pycharm": {
          "metadata": false,
          "name": "#%%\n",
          "is_executing": false
        }
      }
    },
    {
      "cell_type": "code",
      "execution_count": 25,
      "outputs": [
        {
          "name": "stdout",
          "text": [
            "[ 8.80013969  0.0324391   0.38497958 -0.19676037 15.67945792]\n[[21.14379101  2.48623197  3.10092086 -0.12618108 42.66846589]]\n"
          ],
          "output_type": "stream"
        }
      ],
      "source": "# 11. Calculate the median and 70-percentile for each column in mat. \n# print(np.sort(mat,axis\u003d0))\n# print((np.sort(mat,axis\u003d0)[2]+np.sort(mat,axis\u003d0)[3])/2)\nprint(np.median(mat,axis\u003d0))\nprint(np.percentile(mat,axis\u003d0,q\u003d[70]))",
      "metadata": {
        "pycharm": {
          "metadata": false,
          "name": "#%%\n",
          "is_executing": false
        }
      }
    },
    {
      "cell_type": "code",
      "execution_count": 26,
      "outputs": [
        {
          "name": "stdout",
          "text": [
            "[ 0.45464115  0.22659363  0.03211138 -0.1094709  -0.18667404]\n[ 0.45464115  0.22659363  0.03211138 -0.1094709  -0.18667404]\n"
          ],
          "output_type": "stream"
        }
      ],
      "source": "# 12. Print the element in the third row of mat in descending order.\nprint(np.sort(mat[2])[::-1])\nprint(mat[2][np.argsort(-mat[2])])",
      "metadata": {
        "pycharm": {
          "metadata": false,
          "name": "#%%\n",
          "is_executing": false
        }
      }
    },
    {
      "cell_type": "code",
      "execution_count": 27,
      "outputs": [
        {
          "data": {
            "text/plain": "array([0, 0, 0, 3, 4, 4])"
          },
          "metadata": {},
          "output_type": "execute_result",
          "execution_count": 27
        }
      ],
      "source": "# 13. Print out how many exponential values of elements in mat is greater than 3, for each row. 7\nnp.sum(np.exp(mat)\u003e3,axis\u003d1)",
      "metadata": {
        "pycharm": {
          "metadata": false,
          "name": "#%%\n",
          "is_executing": false
        }
      }
    },
    {
      "cell_type": "code",
      "execution_count": 28,
      "outputs": [
        {
          "name": "stdout",
          "text": [
            "[12.4345089   0.04406089  4.376687   -3.20439166 31.14472097]\n[[0 1 1 2 3 3 3 4 4 4 4 5 5 5]\n [3 1 3 3 0 2 4 0 1 2 4 0 1 3]]\n"
          ],
          "output_type": "stream"
        },
        {
          "data": {
            "text/plain": "array([-2.50629471e-01,  6.51436537e-02, -1.42891263e-01, -1.09470897e-01,\n        2.49138963e+01,  5.56018040e+00,  5.44326571e+01,  3.20593008e+01,\n        1.18678609e+01,  2.00405390e+01,  1.00786916e+02,  1.73736858e+01,\n        4.90732028e+00,  1.75829045e+00])"
          },
          "metadata": {},
          "output_type": "execute_result",
          "execution_count": 28
        }
      ],
      "source": "# 14. Calculate the average of each column of mat and\n# Find the positions (row \u0026 column index) where each element of mat is larger than its column average.\nprint(np.mean(mat,axis\u003d0))\nprint(np.array(np.nonzero(mat\u003enp.mean(mat,axis\u003d0))))\nmat[np.nonzero(mat\u003enp.mean(mat,axis\u003d0))]",
      "metadata": {
        "pycharm": {
          "metadata": false,
          "name": "#%%\n",
          "is_executing": false
        }
      }
    },
    {
      "cell_type": "code",
      "execution_count": 29,
      "outputs": [
        {
          "name": "stdout",
          "text": [
            "[[46  3 29]\n [35 39 18]\n [20 43 23]]\n"
          ],
          "output_type": "stream"
        }
      ],
      "source": "# Create a 3×3 ndarray \u0027M\u0027 by the following code.\n# \u003e\u003e\u003e np.random.seed(123)\n# \u003e\u003e\u003e M \u003d np.random.randint(1, 50, size\u003d(3,3))\n# \u003e\u003e\u003e M\n# array([[46,  3, 29],\n#        [35, 39, 18],\n#        [20, 43, 23]])\nnp.random.seed(123)\nM \u003d np.random.randint(1, 50, size\u003d(3,3))\nprint(M)",
      "metadata": {
        "pycharm": {
          "metadata": false,
          "name": "#%%\n",
          "is_executing": false
        }
      }
    },
    {
      "cell_type": "code",
      "execution_count": 30,
      "outputs": [
        {
          "name": "stdout",
          "text": [
            "[[2966 2249 1716]\n [2249 3070 2791]\n [1716 2791 2778]]\n[[2966 2249 1716]\n [2249 3070 2791]\n [1716 2791 2778]]\n"
          ],
          "output_type": "stream"
        }
      ],
      "source": "# 15. Calculate the matrix multiplication of M and M transpose.\nprint(M.dot(M.T))\nprint(M@M.T)",
      "metadata": {
        "pycharm": {
          "metadata": false,
          "name": "#%%\n",
          "is_executing": false
        }
      }
    },
    {
      "cell_type": "code",
      "execution_count": 31,
      "outputs": [
        {
          "name": "stdout",
          "text": [
            "25347.999999999975\n"
          ],
          "output_type": "stream"
        }
      ],
      "source": "# 16. Calculate the determinant of M.\nprint(np.linalg.det(M))",
      "metadata": {
        "pycharm": {
          "metadata": false,
          "name": "#%%\n",
          "is_executing": false
        }
      }
    },
    {
      "cell_type": "code",
      "execution_count": 32,
      "outputs": [
        {
          "name": "stdout",
          "text": [
            "[[ 0.00485245  0.04647309 -0.04248856]\n [-0.01755563  0.0188575   0.00737731]\n [ 0.02860186 -0.07566672  0.06663248]]\n"
          ],
          "output_type": "stream"
        }
      ],
      "source": "# 17. Calculate the inverse matrix of M.\nprint(np.linalg.inv(M))",
      "metadata": {
        "pycharm": {
          "metadata": false,
          "name": "#%%\n",
          "is_executing": false
        }
      }
    }
  ],
  "metadata": {
    "language_info": {
      "codemirror_mode": {
        "name": "ipython",
        "version": 2
      },
      "file_extension": ".py",
      "mimetype": "text/x-python",
      "name": "python",
      "nbconvert_exporter": "python",
      "pygments_lexer": "ipython2",
      "version": "2.7.6"
    },
    "kernelspec": {
      "name": "python3",
      "language": "python",
      "display_name": "Python 3"
    }
  },
  "nbformat": 4,
  "nbformat_minor": 0
}