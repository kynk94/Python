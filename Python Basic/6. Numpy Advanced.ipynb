{
  "cells": [
    {
      "cell_type": "code",
      "execution_count": 1,
      "outputs": [],
      "source": "import numpy as np",
      "metadata": {
        "pycharm": {
          "metadata": false,
          "name": "#%%\n",
          "is_executing": false
        }
      }
    },
    {
      "cell_type": "markdown",
      "metadata": {
        "collapsed": true,
        "pycharm": {
          "name": "#%% md\n"
        }
      },
      "source": "# 1. Using the following code, create a ndarray named \"aMat\".\n```\nnp.random.seed(123)\naMat \u003d np.random.randint(0, 100, (6, 10))\n```"
    },
    {
      "cell_type": "code",
      "execution_count": 2,
      "outputs": [
        {
          "name": "stdout",
          "text": [
            "[[66 92 98 17 83 57 86 97 96 47]\n [73 32 46 96 25 83 78 36 96 80]\n [68 49 55 67  2 84 39 66 84 47]\n [61 48  7 99 92 52 97 85 94 27]\n [34 97 76 40  3 69 64 75 34 58]\n [10 22 77 18 15 27 30 52 70 26]]\n"
          ],
          "output_type": "stream"
        }
      ],
      "source": "np.random.seed(123)\naMat \u003d np.random.randint(0, 100, (6, 10))\nprint(aMat)",
      "metadata": {
        "pycharm": {
          "metadata": false,
          "name": "#%%\n",
          "is_executing": false
        }
      }
    },
    {
      "cell_type": "markdown",
      "source": "(1)\tCreate a 1-dimensional ndarray \"aVec\" of length 10, of which element has a value 1\nif the average of the corresponding column in \"aMat\" is greater than 50 and a value 0\nif the average is less than or equal to 50. ",
      "metadata": {
        "pycharm": {
          "metadata": false,
          "name": "#%% md\n"
        }
      }
    },
    {
      "cell_type": "code",
      "execution_count": 3,
      "outputs": [
        {
          "name": "stdout",
          "text": [
            "[[1 1 1 1 0 1 1 1 1 0]\n [1 1 1 1 0 1 1 1 1 0]\n [1 1 1 1 0 1 1 1 1 0]\n [1 1 1 1 0 1 1 1 1 0]\n [1 1 1 1 0 1 1 1 1 0]\n [1 1 1 1 0 1 1 1 1 0]]\n"
          ],
          "output_type": "stream"
        }
      ],
      "source": "aVec \u003d aMat.copy()\naVec[:,np.mean(aMat, axis\u003d0)\u003e50] \u003d 1\naVec[:,np.mean(aMat, axis\u003d0)\u003c\u003d50] \u003d 0\nprint(aVec)",
      "metadata": {
        "pycharm": {
          "metadata": false,
          "name": "#%%\n",
          "is_executing": false
        }
      }
    },
    {
      "cell_type": "markdown",
      "source": "(2)\tCreate a subarray of \"aMat\" consisting only the cases where the value in the 5th column is greater than 50\nor the value in the 7th column is less than 30. ",
      "metadata": {
        "pycharm": {
          "metadata": false,
          "name": "#%% md\n"
        }
      }
    },
    {
      "cell_type": "code",
      "execution_count": 4,
      "outputs": [
        {
          "name": "stdout",
          "text": [
            "[[66 92 98 17 83 57 86 97 96 47]\n [73 32 46 96 25 83 78 36 96 80]\n [68 49 55 67  2 84 39 66 84 47]\n [61 48  7 99 92 52 97 85 94 27]\n [34 97 76 40  3 69 64 75 34 58]\n [10 22 77 18 15 27 30 52 70 26]]\n[83 92]\n[]\n[83 92]\n"
          ],
          "output_type": "stream"
        }
      ],
      "source": "print(aMat)\nprint(aMat[:,4][aMat[:,4]\u003e50])\nprint(aMat[:,6][aMat[:,6]\u003c30])\nsub_aMat \u003d np.append(aMat[:,4][aMat[:,4]\u003e50], aMat[:,6][aMat[:,6]\u003c30])\nprint(sub_aMat)",
      "metadata": {
        "pycharm": {
          "metadata": false,
          "name": "#%%\n",
          "is_executing": false
        }
      }
    },
    {
      "cell_type": "markdown",
      "source": "(3)\tModify the two elements, one in the 4th row and the 2nd column and\nthe other in the 2nd row and the 7th column of \"aMat\", to 999.",
      "metadata": {
        "pycharm": {
          "metadata": false,
          "name": "#%% md\n"
        }
      }
    },
    {
      "cell_type": "code",
      "execution_count": 5,
      "outputs": [
        {
          "name": "stdout",
          "text": [
            "[[ 66  92  98  17  83  57  86  97  96  47]\n [ 73  32  46  96  25  83 999  36  96  80]\n [ 68  49  55  67   2  84  39  66  84  47]\n [ 61 999   7  99  92  52  97  85  94  27]\n [ 34  97  76  40   3  69  64  75  34  58]\n [ 10  22  77  18  15  27  30  52  70  26]]\n"
          ],
          "output_type": "stream"
        }
      ],
      "source": "aMat[[3,1],[1,6]] \u003d 999\nprint(aMat)",
      "metadata": {
        "pycharm": {
          "metadata": false,
          "name": "#%%\n",
          "is_executing": false
        }
      }
    },
    {
      "cell_type": "markdown",
      "source": "(4)\tFind the mean and standard deviation for each column of \"aMat\"\nwith the rows that contain any 999 removed. ",
      "metadata": {
        "pycharm": {
          "metadata": false,
          "name": "#%% md\n"
        }
      }
    },
    {
      "cell_type": "code",
      "execution_count": 6,
      "outputs": [
        {
          "name": "stdout",
          "text": [
            "[[66 92 98 17 83 57 86 97 96 47]\n [68 49 55 67  2 84 39 66 84 47]\n [34 97 76 40  3 69 64 75 34 58]\n [10 22 77 18 15 27 30 52 70 26]]\n[44.5  65.   76.5  35.5  25.75 59.25 54.75 72.5  71.   44.5 ]\n[24.05722345 31.05640031 15.20690633 20.37768387 33.44678609 20.93292861\n 21.92458666 16.34778272 23.2594067  11.58663023]\n"
          ],
          "output_type": "stream"
        }
      ],
      "source": "sub_aMat \u003d np.delete(aMat,np.where(aMat\u003d\u003d999)[0],0)\nprint(sub_aMat)\nprint(sub_aMat.mean(axis\u003d0))\nprint(sub_aMat.std(axis\u003d0))",
      "metadata": {
        "pycharm": {
          "metadata": false,
          "name": "#%%\n",
          "is_executing": false
        }
      }
    },
    {
      "cell_type": "markdown",
      "source": "(5)\tReplace each 999 of \"aMat\" with the mean of the elements in its column.",
      "metadata": {
        "pycharm": {
          "metadata": false,
          "name": "#%% md\n"
        }
      }
    },
    {
      "cell_type": "code",
      "execution_count": 7,
      "outputs": [
        {
          "name": "stdout",
          "text": [
            "[[ 66  92  98  17  83  57  86  97  96  47]\n [ 73  32  46  96  25  83 219  36  96  80]\n [ 68  49  55  67   2  84  39  66  84  47]\n [ 61 215   7  99  92  52  97  85  94  27]\n [ 34  97  76  40   3  69  64  75  34  58]\n [ 10  22  77  18  15  27  30  52  70  26]]\n"
          ],
          "output_type": "stream"
        }
      ],
      "source": "aMat[np.where(aMat\u003d\u003d999)] \u003d np.mean(aMat[:,np.where(aMat\u003d\u003d999)[1]],axis\u003d0)\nprint(aMat)",
      "metadata": {
        "pycharm": {
          "metadata": false,
          "name": "#%%\n",
          "is_executing": false
        }
      }
    },
    {
      "cell_type": "markdown",
      "source": "(6)\tUsing the \"aMat\" modified as above, create an expanded matrix \"aMat2\" of size,\nwhich includes row sums, column sums and total sum of \"aMat\" in the following format.\n\n\u003ctable\u003e\n    \u003ctr\u003e\n        \u003cth\u003e\"aMat\"\u003c/th\u003e\n        \u003cth\u003eRow sums of \"aMat\"\u003c/th\u003e\n    \u003c/tr\u003e\n    \u003ctr\u003e\n        \u003cth\u003eColumn sums of \"aMat\"\u003c/th\u003e\n        \u003cth\u003eTotal sum\u003c/th\u003e\n    \u003c/tr\u003e\n\u003c/table\u003e\n",
      "metadata": {
        "pycharm": {
          "metadata": false,
          "name": "#%% md\n"
        }
      }
    },
    {
      "cell_type": "code",
      "execution_count": 8,
      "outputs": [
        {
          "name": "stdout",
          "text": [
            "[[  66   92   98   17   83   57   86   97   96   47  739]\n [  73   32   46   96   25   83  219   36   96   80  786]\n [  68   49   55   67    2   84   39   66   84   47  561]\n [  61  215    7   99   92   52   97   85   94   27  829]\n [  34   97   76   40    3   69   64   75   34   58  550]\n [  10   22   77   18   15   27   30   52   70   26  347]\n [ 312  507  359  337  220  372  535  411  474  285 3812]]\n"
          ],
          "output_type": "stream"
        }
      ],
      "source": "row_sums \u003d np.sum(aMat, axis\u003d1, keepdims\u003dTrue)\ncolumn_sums \u003d np.sum(aMat, axis\u003d0, keepdims\u003dTrue)\ntotal_sum \u003d np.sum(aMat)\ncolumn \u003d np.append(column_sums,total_sum)\naMat2 \u003d np.hstack([aMat,row_sums])\naMat2 \u003d np.vstack([aMat2, column])\nprint(aMat2)",
      "metadata": {
        "pycharm": {
          "metadata": false,
          "name": "#%%\n",
          "is_executing": false
        }
      }
    },
    {
      "cell_type": "markdown",
      "source": "2. Using the following code, create a ndarray named \"MAT\".\n```\nnp.random.seed(123)\nMAT \u003d np.random.exponential(scale\u003d1/5, size\u003d(10, 7))\nMAT\u003d np.around( MAT, decimals\u003d3 )\n```",
      "metadata": {
        "pycharm": {
          "metadata": false,
          "name": "#%% md\n"
        }
      }
    },
    {
      "cell_type": "code",
      "execution_count": 9,
      "outputs": [
        {
          "name": "stdout",
          "text": [
            "[[0.238 0.067 0.051 0.16  0.254 0.11  0.79 ]\n [0.231 0.131 0.1   0.084 0.261 0.115 0.012]\n [0.102 0.268 0.04  0.039 0.152 0.152 0.201]\n [0.379 0.258 0.189 0.256 0.078 0.09  0.052]\n [0.07  0.199 0.019 0.114 0.113 0.136 0.111]\n [0.075 0.111 0.448 0.577 0.139 0.196 0.025]\n [0.076 0.107 0.402 0.058 0.132 0.848 0.147]\n [0.19  0.026 0.35  0.185 0.158 0.084 0.073]\n [0.108 0.229 0.417 0.143 0.221 0.176 0.196]\n [0.225 0.369 0.017 0.289 0.056 0.043 0.17 ]]\n"
          ],
          "output_type": "stream"
        }
      ],
      "source": "np.random.seed(123)\nMAT \u003d np.random.exponential(scale\u003d1/5, size\u003d(10, 7))\nMAT \u003d np.around( MAT, decimals\u003d3 )\nprint(MAT)",
      "metadata": {
        "pycharm": {
          "metadata": false,
          "name": "#%%\n",
          "is_executing": false
        }
      }
    },
    {
      "cell_type": "markdown",
      "source": "Extract all the elements (outliers) that are smaller than Q1-1.5×(Q3-Q1) or larger than Q3 + 1.5× (Q3-Q1)\nwhere Q1 and Q3 are the 25th and the 75th percentile of \"MAT\", respectively.",
      "metadata": {
        "pycharm": {
          "metadata": false
        }
      }
    },
    {
      "cell_type": "code",
      "execution_count": 10,
      "outputs": [
        {
          "name": "stdout",
          "text": [
            "-0.14325000000000004\n0.45075000000000004\n[0.79  0.577 0.848]\n"
          ],
          "output_type": "stream"
        }
      ],
      "source": "Q1, Q3 \u003d np.percentile(MAT,[25,75])\nout_small \u003d Q1 - 1.5 * (Q3 - Q1)\nout_large \u003d Q3 + 1.5 * (Q3 - Q1)\nprint(out_small)\nprint(out_large)\nprint(MAT[(MAT\u003cout_small)|(MAT\u003eout_large)])",
      "metadata": {
        "pycharm": {
          "metadata": false,
          "name": "#%%\n",
          "is_executing": false
        }
      }
    },
    {
      "cell_type": "markdown",
      "source": "(2)\tFind the element closest to the median in “MAT”, and print the row and column index of that element. ",
      "metadata": {
        "pycharm": {
          "metadata": false,
          "name": "#%% md\n"
        }
      }
    },
    {
      "cell_type": "code",
      "execution_count": 11,
      "outputs": [
        {
          "name": "stdout",
          "text": [
            "0.14100000000000001\n[0.002]\nrow index : [8],\tcol index : [3]\n[0.143]\n"
          ],
          "output_type": "stream"
        }
      ],
      "source": "print(np.median(MAT))\ntemp_MAT \u003d np.abs(MAT - np.median(MAT))\nprint(temp_MAT[temp_MAT\u003d\u003dnp.min(temp_MAT)])\nrow, col \u003d np.where(temp_MAT\u003d\u003dnp.min(temp_MAT))\nprint(f\"row index : {row},\\tcol index : {col}\")\nprint(MAT[row,col])",
      "metadata": {
        "pycharm": {
          "metadata": false,
          "name": "#%%\n",
          "is_executing": false
        }
      }
    },
    {
      "cell_type": "markdown",
      "source": "(3)\tArrange the rows of “MAT” so that elements in the 2nd column of “MAT” are sorted in ascending order.\n(use np.argsort)",
      "metadata": {
        "pycharm": {
          "metadata": false,
          "name": "#%% md\n"
        }
      }
    },
    {
      "cell_type": "code",
      "execution_count": 12,
      "outputs": [
        {
          "name": "stdout",
          "text": [
            "[[0.19  0.026 0.35  0.185 0.158 0.084 0.073]\n [0.238 0.067 0.051 0.16  0.254 0.11  0.79 ]\n [0.076 0.107 0.402 0.058 0.132 0.848 0.147]\n [0.075 0.111 0.448 0.577 0.139 0.196 0.025]\n [0.231 0.131 0.1   0.084 0.261 0.115 0.012]\n [0.07  0.199 0.019 0.114 0.113 0.136 0.111]\n [0.108 0.229 0.417 0.143 0.221 0.176 0.196]\n [0.379 0.258 0.189 0.256 0.078 0.09  0.052]\n [0.102 0.268 0.04  0.039 0.152 0.152 0.201]\n [0.225 0.369 0.017 0.289 0.056 0.043 0.17 ]]\n"
          ],
          "output_type": "stream"
        }
      ],
      "source": "print(MAT[np.argsort(MAT[:,1])])",
      "metadata": {
        "pycharm": {
          "metadata": false,
          "name": "#%%\n",
          "is_executing": false
        }
      }
    },
    {
      "cell_type": "markdown",
      "source": "(4)\tArrange the columns of “MAT” so that the average of each column of MAT is in descending order.\n(use np.argsort)",
      "metadata": {
        "pycharm": {
          "metadata": false,
          "name": "#%% md\n",
          "is_executing": false
        }
      }
    },
    {
      "cell_type": "code",
      "execution_count": 13,
      "outputs": [
        {
          "name": "stdout",
          "text": [
            "[0.1694 0.1765 0.2033 0.1905 0.1564 0.195  0.1777]\n[0.2033 0.195  0.1905 0.1777 0.1765 0.1694 0.1564]\n"
          ],
          "output_type": "stream"
        }
      ],
      "source": "print(np.mean(MAT, axis\u003d0))\nprint(np.mean(MAT,axis\u003d0)[np.argsort(-np.mean(MAT, axis\u003d0))])",
      "metadata": {
        "pycharm": {
          "metadata": false,
          "name": "#%%\n",
          "is_executing": false
        }
      }
    },
    {
      "cell_type": "markdown",
      "source": "(5)\tUsing numerical indexing, extract the shaded elements of “MAT” so that they look like the following :  \n①\n```\narray([[0.067, 0.16 , 0.254],\n       [0.268, 0.039, 0.152]])\n```",
      "metadata": {
        "pycharm": {
          "metadata": false,
          "name": "#%% md\n"
        }
      }
    },
    {
      "cell_type": "code",
      "execution_count": 14,
      "outputs": [
        {
          "name": "stdout",
          "text": [
            "(array([0, 0, 0, 2, 2, 2, 2], dtype\u003dint64), array([1, 3, 4, 1, 3, 4, 5], dtype\u003dint64))\n[[0.067 0.16  0.254]\n [0.268 0.039 0.152]]\n"
          ],
          "output_type": "stream"
        }
      ],
      "source": "print(np.where((MAT\u003d\u003d0.067)|(MAT\u003d\u003d0.16)|(MAT\u003d\u003d0.254)|(MAT\u003d\u003d0.268)|(MAT\u003d\u003d0.039)|(MAT\u003d\u003d0.152)))\nprint(MAT[[0, 0, 0, 2, 2, 2],[1, 3, 4, 1, 3, 4]].reshape(2,3))",
      "metadata": {
        "pycharm": {
          "metadata": false,
          "name": "#%%\n",
          "is_executing": false
        }
      }
    },
    {
      "cell_type": "markdown",
      "source": "②\n```\narray([0.067, 0.16 , 0.254, 0.268, 0.039, 0.152])\n```",
      "metadata": {
        "pycharm": {
          "metadata": false,
          "name": "#%% md\n",
          "is_executing": false
        }
      }
    },
    {
      "cell_type": "code",
      "execution_count": 15,
      "outputs": [
        {
          "name": "stdout",
          "text": [
            "[0.067 0.16  0.254 0.268 0.039 0.152]\n"
          ],
          "output_type": "stream"
        }
      ],
      "source": "print(MAT[[0, 0, 0, 2, 2, 2],[1, 3, 4, 1, 3, 4]])",
      "metadata": {
        "pycharm": {
          "metadata": false,
          "name": "#%%\n",
          "is_executing": false
        }
      }
    },
    {
      "cell_type": "markdown",
      "source": "(6)\tReplace all the elements which are detected to be as outliers in 1 to NaN.",
      "metadata": {
        "pycharm": {
          "metadata": false,
          "name": "#%% md\n",
          "is_executing": false
        }
      }
    },
    {
      "cell_type": "code",
      "execution_count": 16,
      "outputs": [
        {
          "name": "stdout",
          "text": [
            "[0.79  0.577 0.848]\n[[0.238 0.067 0.051 0.16  0.254 0.11    nan]\n [0.231 0.131 0.1   0.084 0.261 0.115 0.012]\n [0.102 0.268 0.04  0.039 0.152 0.152 0.201]\n [0.379 0.258 0.189 0.256 0.078 0.09  0.052]\n [0.07  0.199 0.019 0.114 0.113 0.136 0.111]\n [0.075 0.111 0.448   nan 0.139 0.196 0.025]\n [0.076 0.107 0.402 0.058 0.132   nan 0.147]\n [0.19  0.026 0.35  0.185 0.158 0.084 0.073]\n [0.108 0.229 0.417 0.143 0.221 0.176 0.196]\n [0.225 0.369 0.017 0.289 0.056 0.043 0.17 ]]\n"
          ],
          "output_type": "stream"
        }
      ],
      "source": "outliers \u003d MAT[(MAT\u003cout_small)|(MAT\u003eout_large)]\nprint(outliers)\nMAT[(MAT\u003cout_small)|(MAT\u003eout_large)] \u003d np.nan\nprint(MAT)",
      "metadata": {
        "pycharm": {
          "metadata": false,
          "name": "#%%\n",
          "is_executing": false
        }
      }
    },
    {
      "cell_type": "markdown",
      "source": "(7)\tIn MAT, extract the rows that contain at least one NaN.",
      "metadata": {
        "pycharm": {
          "metadata": false,
          "name": "#%% md\n"
        }
      }
    },
    {
      "cell_type": "code",
      "execution_count": 17,
      "outputs": [
        {
          "name": "stdout",
          "text": [
            "[0 5 6]\n"
          ],
          "output_type": "stream"
        }
      ],
      "source": "print(np.where(np.isnan(MAT))[0])",
      "metadata": {
        "pycharm": {
          "metadata": false,
          "name": "#%%\n",
          "is_executing": false
        }
      }
    }
  ],
  "metadata": {
    "language_info": {
      "codemirror_mode": {
        "name": "ipython",
        "version": 2
      },
      "file_extension": ".py",
      "mimetype": "text/x-python",
      "name": "python",
      "nbconvert_exporter": "python",
      "pygments_lexer": "ipython2",
      "version": "2.7.6"
    },
    "kernelspec": {
      "name": "python3",
      "language": "python",
      "display_name": "Python 3"
    },
    "stem_cell": {
      "cell_type": "raw",
      "source": "",
      "metadata": {
        "pycharm": {
          "metadata": false
        }
      }
    }
  },
  "nbformat": 4,
  "nbformat_minor": 0
}