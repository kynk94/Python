{
  "cells": [
    {
      "cell_type": "code",
      "execution_count": 1,
      "metadata": {
        "collapsed": true,
        "pycharm": {
          "is_executing": false
        }
      },
      "outputs": [
        {
          "name": "stdout",
          "text": [
            "(180, 130, 110, 160, 140, 170)\n"
          ],
          "output_type": "stream"
        }
      ],
      "source": "# 1. Create the following tuple object \u0027price\u0027.\n# price \u003d (180, 130, 110, 160, 140, 170)\nprice \u003d (180, 130, 110, 160, 140, 170)\nprint(price)"
    },
    {
      "cell_type": "code",
      "execution_count": 2,
      "outputs": [
        {
          "name": "stdout",
          "text": [
            "(110, 130, 140, 160, 170, 180)\n"
          ],
          "output_type": "stream"
        }
      ],
      "source": "# (1) Sort the items of \u0027price\u0027 in ascending order so that \u0027price\u0027 is displayed as below.\n# \u003e\u003e price\n# (110, 130, 140, 160, 170, 180)\nprice \u003d tuple(sorted(list(price)))\nprint(price)",
      "metadata": {
        "pycharm": {
          "metadata": false,
          "name": "#%%\n",
          "is_executing": false
        }
      }
    },
    {
      "cell_type": "code",
      "execution_count": 3,
      "outputs": [
        {
          "name": "stdout",
          "text": [
            "(100, 110, 130, 140, 160, 170, 180, 190)\n"
          ],
          "output_type": "stream"
        }
      ],
      "source": "# (2) Modify \u0027price\u0027 as below, by adding 100 at the beginning and 190 at the end of \u0027price\u0027.\n# \u003e\u003e price\n# (100, 110, 130, 140, 160, 170, 180, 190)\nprice \u003d (100,) + price + (190,)\nprint(price)",
      "metadata": {
        "pycharm": {
          "metadata": false,
          "name": "#%%\n",
          "is_executing": false
        }
      }
    },
    {
      "cell_type": "code",
      "execution_count": 4,
      "outputs": [
        {
          "name": "stdout",
          "text": [
            "[100, 130, 160, 180]\n"
          ],
          "output_type": "stream"
        }
      ],
      "source": "# (3) Select only the 1st, 3rd, 5th, 7th elements of \u0027price\u0027 to create the following list object \u0027price_2\u0027.\n# \u003e\u003e price_2\n# [100, 130, 160, 180]\nprice_2 \u003d list(price[0::2])\nprint(price_2)",
      "metadata": {
        "pycharm": {
          "metadata": false,
          "name": "#%%\n",
          "is_executing": false
        }
      }
    },
    {
      "cell_type": "code",
      "execution_count": 5,
      "outputs": [
        {
          "name": "stdout",
          "text": [
            "False\n"
          ],
          "output_type": "stream"
        }
      ],
      "source": "# (4) Write a code that returns True if \u0027price_2\u0027 has the value 170 and False otherwise.\nprint(170 in price_2)",
      "metadata": {
        "pycharm": {
          "metadata": false,
          "name": "#%%\n",
          "is_executing": false
        }
      }
    },
    {
      "cell_type": "code",
      "execution_count": 6,
      "outputs": [
        {
          "name": "stdout",
          "text": [
            "(100, 110, 130, 140, 0, 0, 0, 170, 180, 190)\n"
          ],
          "output_type": "stream"
        }
      ],
      "source": "# (5) Modify \u0027price\u0027 as below, by inserting 3 zeros instead of 5th value 160.\n# \u003e\u003e price\n# (100, 110, 130, 140, 0, 0, 0, 170, 180, 190)\nprice \u003d price[:4] + (0, 0, 0) + price[5:]\nprint(price)",
      "metadata": {
        "pycharm": {
          "metadata": false,
          "name": "#%%\n",
          "is_executing": false
        }
      }
    },
    {
      "cell_type": "code",
      "execution_count": 7,
      "metadata": {
        "pycharm": {
          "is_executing": false
        }
      },
      "outputs": [
        {
          "name": "stdout",
          "text": [
            "[8.8, 8.9, 8.7, 9.2, 9.3, 9.7, 9.9, 9.5, 7.8, 9.4]\n[8.8, 8.9, 8.7]\n[9.2, 9.3, 9.7, 9.9, 9.5, 7.8, 9.4]\n"
          ],
          "output_type": "stream"
        }
      ],
      "source": "# 2. Create the list object \u0027scores\u0027 as below. Use sequence unpacking to assign\n# the first 3 and the remaining 7 items of \u0027scores\u0027 to list object \u0027scr1\u0027 and \u0027scr2\u0027, respectively. \n# scores \u003d [8.8, 8.9, 8.7, 9.2, 9.3, 9.7, 9.9, 9.5, 7.8, 9.4]\nscores \u003d [8.8, 8.9, 8.7, 9.2, 9.3, 9.7, 9.9, 9.5, 7.8, 9.4]\nprint(scores)\nscr1 \u003d scores[:3]\nscr2 \u003d scores[3:]\nprint(scr1)\nprint(scr2)"
    },
    {
      "cell_type": "code",
      "execution_count": 8,
      "metadata": {
        "pycharm": {
          "is_executing": false
        }
      },
      "outputs": [],
      "source": [
        "# 3. Explain why the following expression raises an error.\n",
        "# (1) dict_x \u003d { {\u0027a\u0027:10} : 5, \u0027abc\u0027: {\u0027c\u0027:20} }\n",
        "# 딕셔너리는 변할 수 있는 값이기 때문에 key로 쓸 수가 없다.\n",
        "# (2) dict_y \u003d { (1,) : 10, (2,): 20, (3, ): 30, (4, ): 40 } dict_y[ -2 : ]\n",
        "# 딕셔너리는 slice 할 수가 없다."
      ]
    },
    {
      "cell_type": "code",
      "execution_count": 9,
      "metadata": {
        "pycharm": {
          "is_executing": false
        }
      },
      "outputs": [
        {
          "name": "stdout",
          "text": [
            "{\u0027cheery\u0027: [12, 100], \u0027cookies\u0027: [18, 200], \u0027greentea\u0027: [15, 140], \u0027mango\u0027: [10, 200]}\n"
          ],
          "output_type": "stream"
        }
      ],
      "source": "# 4. Create a dictionary \u0027icecream\u0027 with [price, inventory] for each ice cream item by the following code.\n# icecream \u003d {\u0027cheery\u0027: [12,100], \u0027cookies\u0027: [18,200], \u0027greentea\u0027: [15,140], \u0027mango\u0027: [10,200]}\nicecream \u003d {\u0027cheery\u0027: [12, 100], \u0027cookies\u0027: [18, 200], \u0027greentea\u0027: [15, 140], \u0027mango\u0027: [10, 200]}\nprint(icecream)"
    },
    {
      "cell_type": "code",
      "execution_count": 10,
      "outputs": [
        {
          "name": "stdout",
          "text": [
            "{\u0027cheery\u0027: [12, 100], \u0027cookies\u0027: [13, 200], \u0027greentea\u0027: [15, 140], \u0027mango\u0027: [10, 200]}\n"
          ],
          "output_type": "stream"
        }
      ],
      "source": "# (1) Change the price of \u0027cookies\u0027 as 13.\nicecream[\u0027cookies\u0027][0] \u003d 13\nprint(icecream)",
      "metadata": {
        "pycharm": {
          "metadata": false,
          "name": "#%%\n",
          "is_executing": false
        }
      }
    },
    {
      "cell_type": "code",
      "execution_count": 11,
      "outputs": [
        {
          "name": "stdout",
          "text": [
            "price \u003d 12 \u0026 stock \u003d 100\n"
          ],
          "output_type": "stream"
        }
      ],
      "source": "# (2) Print the price and inventory of \u0027cheery\u0027 as below.\n# (use print( ) function and extract information from the dictionary \u0027icecream\u0027)\n# price\u003d 13 \u0026 stock\u003d 200\nprint(f\u0027price \u003d {icecream[\"cheery\"][0]} \u0026 stock \u003d {icecream[\"cheery\"][1]}\u0027)",
      "metadata": {
        "pycharm": {
          "metadata": false,
          "name": "#%%\n",
          "is_executing": false
        }
      }
    },
    {
      "cell_type": "code",
      "execution_count": 12,
      "outputs": [
        {
          "name": "stdout",
          "text": [
            "{\u0027cheery\u0027: [12, 100], \u0027cookies\u0027: [13, 200], \u0027greentea\u0027: [15, 140], \u0027mango\u0027: [10, 200], \u0027Strawberry\u0027: [12, 170], \u0027pistachio\u0027: [15, 100]}\n"
          ],
          "output_type": "stream"
        }
      ],
      "source": "# (3) Add the following information to the dictionary \u0027icecream\u0027.\n# - \u0027Strawberry\u0027 is priced at 12 and inventory is 170.\n# - \u0027pistachio\u0027 is priced at 15 and inventory is 100.\nicecream[\u0027Strawberry\u0027] \u003d [12, 170]\nicecream[\u0027pistachio\u0027] \u003d [15, 100]\nprint(icecream)",
      "metadata": {
        "pycharm": {
          "metadata": false,
          "name": "#%%\n",
          "is_executing": false
        }
      }
    },
    {
      "cell_type": "code",
      "execution_count": 13,
      "outputs": [],
      "source": "# (4) Explain why the following code raises an error. \n# \u003e\u003e icecream[\u0027coconut\u0027]\n# icecream 에는 \u0027coconut\u0027 이라는 key 가 없기 때문이다.",
      "metadata": {
        "pycharm": {
          "metadata": false,
          "name": "#%%\n",
          "is_executing": false
        }
      }
    },
    {
      "cell_type": "code",
      "execution_count": 14,
      "outputs": [
        {
          "name": "stdout",
          "text": [
            "icecream \u003d {\u0027cheery\u0027: [12, 100], \u0027cookies\u0027: [13, 200], \u0027greentea\u0027: [15, 140], \u0027mango\u0027: [10, 200], \u0027Strawberry\u0027: [12, 170], \u0027pistachio\u0027: [15, 100]}\nicecream2 \u003d {\u0027cheery\u0027: [15, 100], \u0027cookies\u0027: [13, 200], \u0027greentea\u0027: [15, 140], \u0027mango\u0027: [10, 200], \u0027Strawberry\u0027: [12, 170], \u0027pistachio\u0027: [15, 100]}\n"
          ],
          "output_type": "stream"
        }
      ],
      "source": "# (5) How could you create ‘icecream2’ from copying \u0027icecream\u0027\n# so that \u0027icecream2\u0027 can be changed without affecting \u0027icecream\u0027?\nimport copy\nicecream2 \u003d copy.deepcopy(icecream)\nicecream2[\u0027cheery\u0027][0]\u003d15\nprint(f\u0027icecream \u003d {icecream}\u0027)\nprint(f\u0027icecream2 \u003d {icecream2}\u0027)",
      "metadata": {
        "pycharm": {
          "metadata": false,
          "name": "#%%\n",
          "is_executing": false
        }
      }
    },
    {
      "cell_type": "code",
      "execution_count": 15,
      "metadata": {
        "pycharm": {
          "is_executing": false
        }
      },
      "outputs": [],
      "source": "# 5. Create \u0027d1\u0027 and \u0027d2\u0027 by the following code. \n# d1 \u003d {\u0027key1\u0027: 1, \u0027key2\u0027: 3, \u0027key3\u0027: 2, \u0027key10\u0027: 7}\n# d2 \u003d {\u0027key3\u0027: 1, \u0027key2\u0027: 2, \u0027key7\u0027: 2, \u0027key5\u0027: 4, \u0027key1\u0027: 7, \u0027key9\u0027: 8}\nd1 \u003d {\u0027key1\u0027: 1, \u0027key2\u0027: 3, \u0027key3\u0027: 2, \u0027key10\u0027: 7}\nd2 \u003d {\u0027key3\u0027: 1, \u0027key2\u0027: 2, \u0027key7\u0027: 2, \u0027key5\u0027: 4, \u0027key1\u0027: 7, \u0027key9\u0027: 8}"
    },
    {
      "cell_type": "code",
      "execution_count": 16,
      "outputs": [
        {
          "name": "stdout",
          "text": [
            "[8, 7, 4]\n"
          ],
          "output_type": "stream"
        }
      ],
      "source": "# (1) Select the largest three values of the dictionary \u0027d2\u0027.\nprint(sorted(d2.values(), reverse\u003dTrue)[:3])",
      "metadata": {
        "pycharm": {
          "metadata": false,
          "name": "#%%\n",
          "is_executing": false
        }
      }
    },
    {
      "cell_type": "code",
      "execution_count": 17,
      "outputs": [
        {
          "name": "stdout",
          "text": [
            "{1, 2, 4, 7, 8}\n"
          ],
          "output_type": "stream"
        }
      ],
      "source": "# (2) Create a set of values which are the unique values of \u0027d2\u0027. \nprint(set(d2.values()))",
      "metadata": {
        "pycharm": {
          "metadata": false,
          "name": "#%%\n",
          "is_executing": false
        }
      }
    },
    {
      "cell_type": "code",
      "execution_count": 18,
      "outputs": [
        {
          "name": "stdout",
          "text": [
            "False\n"
          ],
          "output_type": "stream"
        }
      ],
      "source": "# (3) Write code that returns True if keys of \u0027d1\u0027 are all contained in the key of \u0027d2\u0027 and False otherwise.\nprint(set(d1.keys()) \u0026 set(d2.keys()) \u003d\u003d d1.keys())",
      "metadata": {
        "pycharm": {
          "metadata": false,
          "name": "#%%\n",
          "is_executing": false
        }
      }
    },
    {
      "cell_type": "code",
      "execution_count": 19,
      "outputs": [
        {
          "name": "stdout",
          "text": [
            "False\n"
          ],
          "output_type": "stream"
        }
      ],
      "source": "# (4) Write a code that returns True if \u0027d1\u0027 has the value 4 and False otherwise.\nprint(4 in d1.values())",
      "metadata": {
        "pycharm": {
          "metadata": false,
          "name": "#%%\n",
          "is_executing": false
        }
      }
    },
    {
      "cell_type": "code",
      "execution_count": 20,
      "outputs": [
        {
          "name": "stdout",
          "text": [
            "{1, 2, 7}\n"
          ],
          "output_type": "stream"
        }
      ],
      "source": "# (5) Create a set of values which are common in both \u0027d1\u0027 and \u0027d2\u0027.\nprint(set(d1.values()) \u0026 set(d2.values()))",
      "metadata": {
        "pycharm": {
          "metadata": false,
          "name": "#%%\n",
          "is_executing": false
        }
      }
    },
    {
      "cell_type": "code",
      "execution_count": 21,
      "outputs": [],
      "source": "# (6) Explain why the following code raises an error. \n# \u003e\u003e s1 \u003d set(d1); s1[0]\n# set 은 순서가 없는 중복이 불가능한 collection 자료형이다.\n# 주로 item 테스트, 중복제거 등에 사용되고 교집합, 합집합, 차집합 등을 수학적인 계산이 가능하다.\n# 다른 collection 자료형 처럼 item 검사, 길이, 루프가 가능하다.\n# set 은 삽입된 item 의 위치를 저장하지 않기 때문에 item 간의 순서가 없다.\n# 따라서 indexing 이 불가능하고, 자르기가 안되고, 그외의 sequential 한 작업이 불가하다.\n# set 은 dictionary 를 구현한 클래스인데, dictionary 의 key 가 set 의 item 이 된다.\n# 그렇기 때문에 set 은 dictionary 나 list 처럼 중복되는 요소를 담을 수 없다.",
      "metadata": {
        "pycharm": {
          "metadata": false,
          "name": "#%%\n",
          "is_executing": false
        }
      }
    }
  ],
  "metadata": {
    "kernelspec": {
      "display_name": "Python 2",
      "language": "python",
      "name": "python2"
    },
    "language_info": {
      "codemirror_mode": {
        "name": "ipython",
        "version": 2
      },
      "file_extension": ".py",
      "mimetype": "text/x-python",
      "name": "python",
      "nbconvert_exporter": "python",
      "pygments_lexer": "ipython2",
      "version": "2.7.6"
    }
  },
  "nbformat": 4,
  "nbformat_minor": 0
}