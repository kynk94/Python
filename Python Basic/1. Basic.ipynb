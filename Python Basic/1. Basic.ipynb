{
  "cells": [
    {
      "cell_type": "code",
      "execution_count": 1,
      "metadata": {
        "collapsed": true,
        "pycharm": {
          "is_executing": false
        }
      },
      "outputs": [],
      "source": [
        "import math"
      ]
    },
    {
      "cell_type": "code",
      "execution_count": 2,
      "metadata": {
        "pycharm": {
          "is_executing": false
        }
      },
      "outputs": [
        {
          "name": "stdout",
          "text": [
            "Root1 : 3.0 Root2 : -2.5\n"
          ],
          "output_type": "stream"
        }
      ],
      "source": "# 1. Calculate the following.\n# (1) The roots of the quadratic equation ax^2+bx+c\u003d0 is (-b±√(b^2-4ac))/2a. Find the roots when a\u003d2,b\u003d-1,c\u003d-15.\ndef get_roots_quadratic_equation(a,b,c):\n    root1 \u003d (-b + pow(pow(b, 2) - 4*a*c, 0.5)) / (2*a)\n    root2 \u003d (-b - pow(pow(b, 2) - 4*a*c, 0.5)) / (2*a)\n    return [root1, root2]\n\nr1,r2 \u003d get_roots_quadratic_equation(2,-1,-15)\nprint(f\u0027Root1 : {r1} Root2 : {r2}\u0027)"
    },
    {
      "cell_type": "code",
      "execution_count": 3,
      "outputs": [
        {
          "name": "stdout",
          "text": [
            "f(x\u003d1) \u003d 0.19496965572274116\n"
          ],
          "output_type": "stream"
        }
      ],
      "source": "# (2) Consider the Normal pdf function \n# f(x;μ,σ^2 )\u003d1/(√2πσ) exp(-(x-μ)^2/(2σ^2 )) with the parameters μ\u003d2,σ^2\u003d3. What is the value of f(x\u003d1).\ndef pdf(x,mu,sigma_sq):\n    return math.exp(-pow(x-mu, 2)/(2*sigma_sq)) / pow(2 * math.pi * sigma_sq, 0.5)\n\nprint(f\u0027f(x\u003d1) \u003d {pdf(1,2,3)}\u0027)",
      "metadata": {
        "pycharm": {
          "metadata": false,
          "name": "#%%\n",
          "is_executing": false
        }
      }
    },
    {
      "cell_type": "code",
      "execution_count": 4,
      "metadata": {
        "pycharm": {
          "is_executing": false
        }
      },
      "outputs": [],
      "source": "# 2. Create the following list object \u0027grade\u0027.\n# grade \u003d [\u0027A\u0027, \u0027B\u0027, \u0027C\u0027, \u0027D\u0027, \u0027F\u0027]\ngrade \u003d [\u0027A\u0027, \u0027B\u0027, \u0027C\u0027, \u0027D\u0027, \u0027F\u0027]"
    },
    {
      "cell_type": "code",
      "execution_count": 5,
      "outputs": [
        {
          "name": "stdout",
          "text": [
            "ABCDF\n"
          ],
          "output_type": "stream"
        }
      ],
      "source": "# (1) Using the list \u0027grade\u0027, create the string object \u0027grade_str\u0027 as follows.\n# \u003e\u003e grade_str\n# \u0027ABCDF\u0027\ngrade_str \u003d \u0027\u0027\nfor i in grade:\n    grade_str +\u003d i\nprint(grade_str)",
      "metadata": {
        "pycharm": {
          "metadata": false,
          "name": "#%%\n",
          "is_executing": false
        }
      }
    },
    {
      "cell_type": "code",
      "execution_count": 6,
      "outputs": [
        {
          "name": "stdout",
          "text": [
            "ABCDFFF\n"
          ],
          "output_type": "stream"
        }
      ],
      "source": "# (2) Modify \u0027grade_str\u0027 in (1) as follows.\n# \u003e\u003e grade_str\n# \u0027ABCDFFF\u0027\nwhile(len(grade_str)\u003c7):\n    grade_str +\u003d grade[-1]\nprint(grade_str)",
      "metadata": {
        "pycharm": {
          "metadata": false,
          "name": "#%%\n",
          "is_executing": false
        }
      }
    },
    {
      "cell_type": "code",
      "execution_count": 7,
      "outputs": [
        {
          "name": "stdout",
          "text": [
            "ABCDFFFDCBA",
            "\n"
          ],
          "output_type": "stream"
        }
      ],
      "source": "# (3) Modify \u0027grade_str\u0027 in (2) as follows.\n# \u003e\u003e grade_str\n# \u0027ABCDFFFDCBA\u0027\nfor i in reversed(grade):\n    if i !\u003d \u0027F\u0027:\n        grade_str +\u003d i\nprint(grade_str)",
      "metadata": {
        "pycharm": {
          "metadata": false,
          "name": "#%%\n",
          "is_executing": false
        }
      }
    },
    {
      "cell_type": "code",
      "execution_count": 8,
      "outputs": [
        {
          "name": "stdout",
          "text": [
            "2\n"
          ],
          "output_type": "stream"
        }
      ],
      "source": "# (4) Count the number of \u0027A\u0027 in \u0027grade_str\u0027.\nprint(grade_str.count(\u0027A\u0027))",
      "metadata": {
        "pycharm": {
          "metadata": false,
          "name": "#%%\n",
          "is_executing": false
        }
      }
    },
    {
      "cell_type": "code",
      "execution_count": 9,
      "outputs": [
        {
          "name": "stdout",
          "text": [
            "FFF\nFFF\nFFF\nFFF\n"
          ],
          "output_type": "stream"
        }
      ],
      "source": "# (5) Present 4 different slicing expression to extract \u0027FFF\u0027 in \u0027grade_str\u0027. \n# 1)\nfor i in grade_str.split(\u0027D\u0027):\n    if \u0027F\u0027 in i:\n        print(i)\n# 2)\nprint(grade_str[4:7])\n# 3)\ntemp \u003d \u0027\u0027\nfor i in grade_str:\n    if i\u003d\u003d\u0027F\u0027:\n        temp +\u003d i\nprint(temp)\n# 4)\ntemp \u003d []\nfor i in range(len(grade_str)):\n    temp_idx \u003d grade_str.find(\u0027F\u0027,i)\n    if temp_idx!\u003d-1:\n        temp.append(temp_idx)\ntemp \u003d set(temp)\ntemp_str \u003d \u0027\u0027\nfor i in temp:\n    temp_str +\u003d grade_str[i]\nprint(temp_str)",
      "metadata": {
        "pycharm": {
          "metadata": false,
          "name": "#%%\n",
          "is_executing": false
        }
      }
    },
    {
      "cell_type": "code",
      "execution_count": 10,
      "outputs": [
        {
          "name": "stdout",
          "text": [
            "ABCDAAADCBA\n"
          ],
          "output_type": "stream"
        }
      ],
      "source": "# (6) Modify \u0027grade_str\u0027 in (3) as the following.\n# \u003e\u003e grade_str\n# \u0027ABCDAAADCBA\u0027\ngrade_str \u003d grade_str.replace(\u0027F\u0027, \u0027A\u0027)\nprint(grade_str)",
      "metadata": {
        "pycharm": {
          "metadata": false,
          "name": "#%%\n",
          "is_executing": false
        }
      }
    },
    {
      "cell_type": "code",
      "execution_count": 11,
      "outputs": [
        {
          "data": {
            "text/plain": "False"
          },
          "metadata": {},
          "output_type": "execute_result",
          "execution_count": 11
        }
      ],
      "source": "# (7) Check whether \u0027F\u0027 exists in \u0027grade_str\u0027.\n\u0027F\u0027 in grade_str",
      "metadata": {
        "pycharm": {
          "metadata": false,
          "name": "#%%\n",
          "is_executing": false
        }
      }
    },
    {
      "cell_type": "code",
      "execution_count": 12,
      "outputs": [
        {
          "name": "stdout",
          "text": [
            "abcdaaadcba\n"
          ],
          "output_type": "stream"
        }
      ],
      "source": "# (8) Change all letters of \u0027grade_str\u0027 to lower case.\ngrade_str \u003d grade_str.lower()\nprint(grade_str)",
      "metadata": {
        "pycharm": {
          "metadata": false,
          "name": "#%%\n",
          "is_executing": false
        }
      }
    },
    {
      "cell_type": "code",
      "execution_count": 13,
      "metadata": {
        "pycharm": {
          "is_executing": false
        }
      },
      "outputs": [
        {
          "name": "stdout",
          "text": [
            "[\u0027Mon\u0027, \u0027Tues\u0027, \u0027Wed\u0027, \u0027Thur\u0027, \u0027Fri\u0027, [\u0027Sat\u0027, \u0027Sun\u0027]]\n"
          ],
          "output_type": "stream"
        }
      ],
      "source": "# 3. Create the following list object \u0027days\u0027.\n# days \u003d [\u0027Mon\u0027, \u0027Tues\u0027, \u0027Wed\u0027, \u0027Thur\u0027, \u0027Fri\u0027, [\u0027Sat\u0027, \u0027Sun\u0027]]\ndays \u003d [\u0027Mon\u0027, \u0027Tues\u0027, \u0027Wed\u0027, \u0027Thur\u0027, \u0027Fri\u0027, [\u0027Sat\u0027, \u0027Sun\u0027]]\nprint(days)"
    },
    {
      "cell_type": "code",
      "execution_count": 14,
      "outputs": [
        {
          "name": "stdout",
          "text": [
            "[\u0027Mon\u0027, \u0027Tues\u0027, \u0027Wed\u0027, \u0027Thur\u0027, \u0027Fri\u0027, [\u0027Sat\u0027, \u0027Sun\u0027]]\n"
          ],
          "output_type": "stream"
        }
      ],
      "source": "# (1) Store the copy of \u0027days\u0027 as the variable \u0027days2\u0027.\ndays2 \u003d days.copy()\nprint(days2)",
      "metadata": {
        "pycharm": {
          "metadata": false,
          "name": "#%%\n",
          "is_executing": false
        }
      }
    },
    {
      "cell_type": "code",
      "execution_count": 15,
      "outputs": [
        {
          "name": "stdout",
          "text": [
            "[\u0027Sat\u0027, \u0027Sun\u0027]\n[\u0027Mon\u0027, \u0027Wed\u0027, \u0027Fri\u0027]\n[[\u0027Sat\u0027, \u0027Sun\u0027], \u0027Thur\u0027, \u0027Tues\u0027]\n[\u0027Fri\u0027, \u0027Tues\u0027]\nSat\n"
          ],
          "output_type": "stream"
        }
      ],
      "source": "# (2) Extract the followings from \u0027days2\u0027. \n# ①\t[[\u0027Sat\u0027, \u0027Sun\u0027]]\nprint(days2[-1])\n# ②\t[\u0027Mon\u0027, \u0027Wed\u0027, \u0027Fri\u0027]\nprint(days2[0::2])\n# ③\t[[\u0027Sat\u0027, \u0027Sun\u0027], \u0027Thur\u0027, \u0027Tues\u0027]\nprint(days2[-1::-2])\n# ④\t[\u0027Fri\u0027, \u0027Tues\u0027]\nprint(days2[-2::-3])\n# ⑤\t\u0027Sat\u0027\nprint(days2[-1][0])",
      "metadata": {
        "pycharm": {
          "metadata": false,
          "name": "#%%\n",
          "is_executing": false
        }
      }
    },
    {
      "cell_type": "code",
      "execution_count": 16,
      "outputs": [
        {
          "name": "stdout",
          "text": [
            "[[\u0027Mon\u0027, \u0027Tues\u0027, \u0027Wed\u0027, \u0027Thur\u0027, \u0027Fri\u0027], \u0027Sat\u0027, \u0027Sun\u0027]\n"
          ],
          "output_type": "stream"
        }
      ],
      "source": "# (3)\tModify \u0027days2\u0027 as follows.\n# \u003e\u003e\u003e days2\n# [[\u0027Mon\u0027, \u0027Tues\u0027, \u0027Wed\u0027, \u0027Thur\u0027, \u0027Fri\u0027], \u0027Sat\u0027, \u0027Sun\u0027]\ndays2 \u003d [days2[:5]] + days2[-1]\nprint(days2)",
      "metadata": {
        "pycharm": {
          "metadata": false,
          "name": "#%%\n",
          "is_executing": false
        }
      }
    },
    {
      "cell_type": "code",
      "execution_count": 17,
      "outputs": [
        {
          "name": "stdout",
          "text": [
            "[[\u0027Mon\u0027, \u0027Tues\u0027, \u0027Thur\u0027], \u0027Sat\u0027, \u0027Sun\u0027]\n"
          ],
          "output_type": "stream"
        }
      ],
      "source": "# (4)\tModify \u0027days2\u0027 in (3) as follows, by removing the 2 items \u0027Wed\u0027 and \u0027Fri\u0027. \n# \u003e\u003e days2\n# [[\u0027Mon\u0027, \u0027Tues\u0027, \u0027Thur\u0027], \u0027Sat\u0027, \u0027Sun\u0027]\ndays2[0].remove(\u0027Wed\u0027)\ndays2[0].remove(\u0027Fri\u0027)\nprint(days2)",
      "metadata": {
        "pycharm": {
          "metadata": false,
          "name": "#%%\n",
          "is_executing": false
        }
      }
    },
    {
      "cell_type": "code",
      "execution_count": 18,
      "outputs": [
        {
          "name": "stdout",
          "text": [
            "[[\u0027Mon\u0027, \u0027Tues\u0027, \u0027W\u0027, \u0027Thur\u0027], \u0027Sat\u0027, \u0027Sun\u0027]\n"
          ],
          "output_type": "stream"
        }
      ],
      "source": "# (5)\tModify \u0027days2\u0027 in (4) as follows ng, by inserting \u0027W\u0027 at the given position. \n# \u003e\u003e days2\n# [[\u0027Mon\u0027, \u0027Tues\u0027, \u0027W\u0027, \u0027Thur\u0027], \u0027Sat\u0027, \u0027Sun\u0027]\ndays2[0].insert(days2[0].index(\u0027Tues\u0027)+1, \u0027W\u0027)\nprint(days2)",
      "metadata": {
        "pycharm": {
          "metadata": false,
          "name": "#%%\n",
          "is_executing": false
        }
      }
    },
    {
      "cell_type": "code",
      "execution_count": 19,
      "metadata": {
        "pycharm": {
          "is_executing": false
        }
      },
      "outputs": [
        {
          "name": "stdout",
          "text": [
            "[1, 5, 2, 7, 3, 6, 4]\n"
          ],
          "output_type": "stream"
        }
      ],
      "source": "# 4. Create the following list object \u0027Nums\u0027.\n# Nums \u003d [1, 5, 2, 7, 3, 6, 4]\nNums \u003d [1, 5, 2, 7, 3, 6, 4]\nprint(Nums)"
    },
    {
      "cell_type": "code",
      "execution_count": 20,
      "outputs": [
        {
          "name": "stdout",
          "text": [
            "[1, 5, 2, 7, 3, 6, 4, 7]\n"
          ],
          "output_type": "stream"
        }
      ],
      "source": "# (1) Appends the largest element of \u0027Nums\u0027 to the end of \u0027Nums\u0027.\n# \u003e\u003e Nums\n# [1, 5, 2, 7, 3, 6, 4, 7]\nNums.append(7)\nprint(Nums)",
      "metadata": {
        "pycharm": {
          "metadata": false,
          "name": "#%%\n",
          "is_executing": false
        }
      }
    },
    {
      "cell_type": "code",
      "execution_count": 21,
      "outputs": [
        {
          "name": "stdout",
          "text": [
            "[7, 7, 6, 5, 4, 3, 2, 1]\n"
          ],
          "output_type": "stream"
        }
      ],
      "source": "# (2)\tSort the elements in \u0027Nums\u0027 in decreasing order.\n# \u003e\u003e Nums\n# [7, 7, 6, 5, 4, 3, 2, 1]\nNums.sort(reverse\u003dTrue)\nprint(Nums)",
      "metadata": {
        "pycharm": {
          "metadata": false,
          "name": "#%%\n",
          "is_executing": false
        }
      }
    },
    {
      "cell_type": "code",
      "execution_count": 22,
      "outputs": [
        {
          "name": "stdout",
          "text": [
            "[\u0027a\u0027, 7, \u0027a\u0027, 5, \u0027a\u0027, 3, \u0027a\u0027, 1]\n"
          ],
          "output_type": "stream"
        }
      ],
      "source": "# (3)\tModify the \u0027Nums\u0027 in (2) as the following.\n# \u003e\u003e Nums\n# [\u0027a\u0027, 7, \u0027a\u0027, 5, \u0027a\u0027, 3, \u0027a\u0027, 1]\nfor i in range(0,len(Nums),2):\n    Nums[i] \u003d \u0027a\u0027\nprint(Nums)",
      "metadata": {
        "pycharm": {
          "metadata": false,
          "name": "#%%\n",
          "is_executing": false
        }
      }
    }
  ],
  "metadata": {
    "kernelspec": {
      "display_name": "Python 2",
      "language": "python",
      "name": "python2"
    },
    "language_info": {
      "codemirror_mode": {
        "name": "ipython",
        "version": 2
      },
      "file_extension": ".py",
      "mimetype": "text/x-python",
      "name": "python",
      "nbconvert_exporter": "python",
      "pygments_lexer": "ipython2",
      "version": "2.7.6"
    }
  },
  "nbformat": 4,
  "nbformat_minor": 0
}